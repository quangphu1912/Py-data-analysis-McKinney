{
 "cells": [
  {
   "cell_type": "code",
   "execution_count": null,
   "source": [],
   "outputs": [],
   "metadata": {}
  },
  {
   "cell_type": "markdown",
   "source": [
    "# Chapter 5: Getting Started with pandas"
   ],
   "metadata": {
    "deletable": true,
    "editable": true
   }
  },
  {
   "cell_type": "markdown",
   "source": [
    "## 5.0 Intro "
   ],
   "metadata": {}
  },
  {
   "cell_type": "code",
   "execution_count": 77,
   "source": [
    "import pandas as pd"
   ],
   "outputs": [],
   "metadata": {
    "collapsed": false,
    "deletable": true,
    "editable": true
   }
  },
  {
   "cell_type": "code",
   "execution_count": 78,
   "source": [
    "from pandas import Series, DataFrame"
   ],
   "outputs": [],
   "metadata": {
    "collapsed": false,
    "deletable": true,
    "editable": true
   }
  },
  {
   "cell_type": "code",
   "execution_count": 79,
   "source": [
    "import numpy as np\r\n",
    "np.random.seed(12345)\r\n",
    "import matplotlib.pyplot as plt\r\n",
    "plt.rc('figure', figsize=(10, 6))\r\n",
    "PREVIOUS_MAX_ROWS = pd.options.display.max_rows\r\n",
    "pd.options.display.max_rows = 20\r\n",
    "np.set_printoptions(precision=4, suppress=True)"
   ],
   "outputs": [],
   "metadata": {
    "collapsed": false,
    "deletable": true,
    "editable": true
   }
  },
  {
   "cell_type": "markdown",
   "source": [
    "## 5.1. Introduction to pandas Data Structures"
   ],
   "metadata": {
    "deletable": true,
    "editable": true
   }
  },
  {
   "cell_type": "markdown",
   "source": [
    "### 5.1.1. Series"
   ],
   "metadata": {
    "deletable": true,
    "editable": true
   }
  },
  {
   "cell_type": "markdown",
   "source": [
    "A `Series` is a `one-dimensional array-like` object containing a sequence of values (of similar types to NumPy types) and an associated array of data labels, called its index.<br> \r\n",
    "The simplest Series is formed from only an array of data:"
   ],
   "metadata": {}
  },
  {
   "cell_type": "code",
   "execution_count": 80,
   "source": [
    "obj = pd.Series([4, 7, -5, 3])\r\n",
    "obj"
   ],
   "outputs": [
    {
     "output_type": "execute_result",
     "data": {
      "text/plain": [
       "0    4\n",
       "1    7\n",
       "2   -5\n",
       "3    3\n",
       "dtype: int64"
      ]
     },
     "metadata": {},
     "execution_count": 80
    }
   ],
   "metadata": {
    "collapsed": false,
    "deletable": true,
    "editable": true
   }
  },
  {
   "cell_type": "code",
   "execution_count": 81,
   "source": [
    "#P testing\r\n",
    "type(obj)\r\n",
    "#Output: pandas.core.series.Series"
   ],
   "outputs": [
    {
     "output_type": "execute_result",
     "data": {
      "text/plain": [
       "pandas.core.series.Series"
      ]
     },
     "metadata": {},
     "execution_count": 81
    }
   ],
   "metadata": {}
  },
  {
   "cell_type": "markdown",
   "source": [
    "The string representation of a Series displayed interactively shows the index on the left and the values on the right. `Since we did not specify an index for the data, a default one consisting of the integers 0 through N - 1` (where N is the length of the data) is created.<br>\r\n",
    "You can get the array representation and index object of the Series via its values and index attributes, respectively:"
   ],
   "metadata": {}
  },
  {
   "cell_type": "code",
   "execution_count": 82,
   "source": [
    "obj.values\r\n",
    "obj.index  # like range(4)"
   ],
   "outputs": [
    {
     "output_type": "execute_result",
     "data": {
      "text/plain": [
       "RangeIndex(start=0, stop=4, step=1)"
      ]
     },
     "metadata": {},
     "execution_count": 82
    }
   ],
   "metadata": {
    "collapsed": false,
    "deletable": true,
    "editable": true
   }
  },
  {
   "cell_type": "code",
   "execution_count": 83,
   "source": [
    "#Often it will be desirable to create a Series with an index identifying each data point with a label:\r\n",
    "obj2 = pd.Series([4, 7, -5, 3], index=['d', 'b', 'a', 'c'])\r\n",
    "obj2\r\n",
    "obj2.index"
   ],
   "outputs": [
    {
     "output_type": "execute_result",
     "data": {
      "text/plain": [
       "Index(['d', 'b', 'a', 'c'], dtype='object')"
      ]
     },
     "metadata": {},
     "execution_count": 83
    }
   ],
   "metadata": {
    "collapsed": false,
    "deletable": true,
    "editable": true
   }
  },
  {
   "cell_type": "markdown",
   "source": [
    "Compared with NumPy arrays, you can use labels in the index when selecting single values or a set of values:"
   ],
   "metadata": {}
  },
  {
   "cell_type": "code",
   "execution_count": 84,
   "source": [
    "obj2['a']"
   ],
   "outputs": [
    {
     "output_type": "execute_result",
     "data": {
      "text/plain": [
       "-5"
      ]
     },
     "metadata": {},
     "execution_count": 84
    }
   ],
   "metadata": {
    "collapsed": false,
    "deletable": true,
    "editable": true
   }
  },
  {
   "cell_type": "code",
   "execution_count": 85,
   "source": [
    "obj2['d'] = 6"
   ],
   "outputs": [],
   "metadata": {}
  },
  {
   "cell_type": "code",
   "execution_count": 86,
   "source": [
    "obj2[['c', 'a', 'd']]\r\n",
    "#Here ['c', 'a', 'd'] is interpreted as a list of indices, even though it contains strings instead of integers."
   ],
   "outputs": [
    {
     "output_type": "execute_result",
     "data": {
      "text/plain": [
       "c    3\n",
       "a   -5\n",
       "d    6\n",
       "dtype: int64"
      ]
     },
     "metadata": {},
     "execution_count": 86
    }
   ],
   "metadata": {}
  },
  {
   "cell_type": "markdown",
   "source": [
    "`Using NumPy functions or NumPy-like operations`, such as filtering with a boolean array, scalar multiplication, or applying math functions, `will preserve the index-value link`:"
   ],
   "metadata": {}
  },
  {
   "cell_type": "code",
   "execution_count": 87,
   "source": [
    "obj2[obj2 > 0]"
   ],
   "outputs": [
    {
     "output_type": "execute_result",
     "data": {
      "text/plain": [
       "d    6\n",
       "b    7\n",
       "c    3\n",
       "dtype: int64"
      ]
     },
     "metadata": {},
     "execution_count": 87
    }
   ],
   "metadata": {
    "collapsed": false,
    "deletable": true,
    "editable": true
   }
  },
  {
   "cell_type": "code",
   "execution_count": 88,
   "source": [
    "obj2 * 2"
   ],
   "outputs": [
    {
     "output_type": "execute_result",
     "data": {
      "text/plain": [
       "d    12\n",
       "b    14\n",
       "a   -10\n",
       "c     6\n",
       "dtype: int64"
      ]
     },
     "metadata": {},
     "execution_count": 88
    }
   ],
   "metadata": {}
  },
  {
   "cell_type": "code",
   "execution_count": 89,
   "source": [
    "np.exp(obj2)"
   ],
   "outputs": [
    {
     "output_type": "execute_result",
     "data": {
      "text/plain": [
       "d     403.428793\n",
       "b    1096.633158\n",
       "a       0.006738\n",
       "c      20.085537\n",
       "dtype: float64"
      ]
     },
     "metadata": {},
     "execution_count": 89
    }
   ],
   "metadata": {}
  },
  {
   "cell_type": "markdown",
   "source": [
    "`Another way to think about a Series` is as a `fixed-length, ordered dict`, as it is a mapping of index values to data values. It can be used in many contexts where you might use a dict:"
   ],
   "metadata": {}
  },
  {
   "cell_type": "code",
   "execution_count": 90,
   "source": [
    "'b' in obj2"
   ],
   "outputs": [
    {
     "output_type": "execute_result",
     "data": {
      "text/plain": [
       "True"
      ]
     },
     "metadata": {},
     "execution_count": 90
    }
   ],
   "metadata": {
    "collapsed": false,
    "deletable": true,
    "editable": true
   }
  },
  {
   "cell_type": "code",
   "execution_count": 91,
   "source": [
    "'e' in obj2"
   ],
   "outputs": [
    {
     "output_type": "execute_result",
     "data": {
      "text/plain": [
       "False"
      ]
     },
     "metadata": {},
     "execution_count": 91
    }
   ],
   "metadata": {}
  },
  {
   "cell_type": "markdown",
   "source": [
    "Should you have data contained in a Python dict, you can `create a Series from it by passing the dict`:"
   ],
   "metadata": {}
  },
  {
   "cell_type": "code",
   "execution_count": 92,
   "source": [
    "sdata = {'Ohio': 35000, 'Texas': 71000, 'Oregon': 16000, 'Utah': 5000}\r\n",
    "obj3 = pd.Series(sdata)\r\n",
    "obj3"
   ],
   "outputs": [
    {
     "output_type": "execute_result",
     "data": {
      "text/plain": [
       "Ohio      35000\n",
       "Texas     71000\n",
       "Oregon    16000\n",
       "Utah       5000\n",
       "dtype: int64"
      ]
     },
     "metadata": {},
     "execution_count": 92
    }
   ],
   "metadata": {
    "collapsed": false,
    "deletable": true,
    "editable": true
   }
  },
  {
   "cell_type": "markdown",
   "source": [
    "When you are only passing a dict, the index in the resulting Series will have the dict’s keys in sorted order. You can override this by passing the dict keys in the order you want them to appear in the resulting Series:"
   ],
   "metadata": {}
  },
  {
   "cell_type": "code",
   "execution_count": 93,
   "source": [
    "states = ['California', 'Ohio', 'Oregon', 'Texas']\r\n",
    "obj4 = pd.Series(sdata, index=states)\r\n",
    "obj4"
   ],
   "outputs": [
    {
     "output_type": "execute_result",
     "data": {
      "text/plain": [
       "California        NaN\n",
       "Ohio          35000.0\n",
       "Oregon        16000.0\n",
       "Texas         71000.0\n",
       "dtype: float64"
      ]
     },
     "metadata": {},
     "execution_count": 93
    }
   ],
   "metadata": {
    "collapsed": false,
    "deletable": true,
    "editable": true
   }
  },
  {
   "cell_type": "markdown",
   "source": [
    "Here, three values found in sdata were placed in the appropriate locations, but since no value for 'California' was found, it appears as NaN (not a number), which is considered in pandas to mark missing or NA values.<br>\r\n",
    "Since 'Utah' was not included in states, it is excluded from the resulting object."
   ],
   "metadata": {}
  },
  {
   "cell_type": "markdown",
   "source": [
    "The isnull and notnull functions in pandas should be used to detect missing data:"
   ],
   "metadata": {}
  },
  {
   "cell_type": "code",
   "execution_count": 94,
   "source": [
    "pd.isnull(obj4)"
   ],
   "outputs": [
    {
     "output_type": "execute_result",
     "data": {
      "text/plain": [
       "California     True\n",
       "Ohio          False\n",
       "Oregon        False\n",
       "Texas         False\n",
       "dtype: bool"
      ]
     },
     "metadata": {},
     "execution_count": 94
    }
   ],
   "metadata": {
    "collapsed": false,
    "deletable": true,
    "editable": true
   }
  },
  {
   "cell_type": "code",
   "execution_count": 95,
   "source": [
    "pd.notnull(obj4)"
   ],
   "outputs": [
    {
     "output_type": "execute_result",
     "data": {
      "text/plain": [
       "California    False\n",
       "Ohio           True\n",
       "Oregon         True\n",
       "Texas          True\n",
       "dtype: bool"
      ]
     },
     "metadata": {},
     "execution_count": 95
    }
   ],
   "metadata": {}
  },
  {
   "cell_type": "code",
   "execution_count": 96,
   "source": [
    "obj4.isnull()"
   ],
   "outputs": [
    {
     "output_type": "execute_result",
     "data": {
      "text/plain": [
       "California     True\n",
       "Ohio          False\n",
       "Oregon        False\n",
       "Texas         False\n",
       "dtype: bool"
      ]
     },
     "metadata": {},
     "execution_count": 96
    }
   ],
   "metadata": {
    "collapsed": false,
    "deletable": true,
    "editable": true
   }
  },
  {
   "cell_type": "markdown",
   "source": [
    "A useful Series feature for many applications is that it automatically aligns by index label in arithmetic operations:"
   ],
   "metadata": {}
  },
  {
   "cell_type": "code",
   "execution_count": 97,
   "source": [
    "obj3"
   ],
   "outputs": [
    {
     "output_type": "execute_result",
     "data": {
      "text/plain": [
       "Ohio      35000\n",
       "Texas     71000\n",
       "Oregon    16000\n",
       "Utah       5000\n",
       "dtype: int64"
      ]
     },
     "metadata": {},
     "execution_count": 97
    }
   ],
   "metadata": {
    "collapsed": false,
    "deletable": true,
    "editable": true
   }
  },
  {
   "cell_type": "code",
   "execution_count": 98,
   "source": [
    "obj4"
   ],
   "outputs": [
    {
     "output_type": "execute_result",
     "data": {
      "text/plain": [
       "California        NaN\n",
       "Ohio          35000.0\n",
       "Oregon        16000.0\n",
       "Texas         71000.0\n",
       "dtype: float64"
      ]
     },
     "metadata": {},
     "execution_count": 98
    }
   ],
   "metadata": {}
  },
  {
   "cell_type": "code",
   "execution_count": 99,
   "source": [
    "obj3 + obj4"
   ],
   "outputs": [
    {
     "output_type": "execute_result",
     "data": {
      "text/plain": [
       "California         NaN\n",
       "Ohio           70000.0\n",
       "Oregon         32000.0\n",
       "Texas         142000.0\n",
       "Utah               NaN\n",
       "dtype: float64"
      ]
     },
     "metadata": {},
     "execution_count": 99
    }
   ],
   "metadata": {}
  },
  {
   "cell_type": "markdown",
   "source": [
    "Both the Series object itself and its index have a name attribute, which integrates with other key areas of pandas functionality:"
   ],
   "metadata": {}
  },
  {
   "cell_type": "code",
   "execution_count": 131,
   "source": [
    "obj4.name = 'population' #it shows up in the Output: Name: population\r\n",
    "obj4.index.name = 'state' #it shows up in index column as state\r\n",
    "obj4"
   ],
   "outputs": [
    {
     "output_type": "execute_result",
     "data": {
      "text/plain": [
       "state\n",
       "California        NaN\n",
       "Ohio          35000.0\n",
       "Oregon        16000.0\n",
       "Texas         71000.0\n",
       "Name: population, dtype: float64"
      ]
     },
     "metadata": {},
     "execution_count": 131
    }
   ],
   "metadata": {
    "collapsed": false,
    "deletable": true,
    "editable": true
   }
  },
  {
   "cell_type": "code",
   "execution_count": 133,
   "source": [
    "#A Series’s index can be altered in-place by assignment:\r\n",
    "obj\r\n",
    "obj.index = ['Bob', 'Steve', 'Jeff', 'Ryan']\r\n",
    "obj.index.name = 'name' #P added to name index\r\n",
    "obj"
   ],
   "outputs": [
    {
     "output_type": "execute_result",
     "data": {
      "text/plain": [
       "name\n",
       "Bob      4.5\n",
       "Steve    7.2\n",
       "Jeff    -5.3\n",
       "Ryan     3.6\n",
       "dtype: float64"
      ]
     },
     "metadata": {},
     "execution_count": 133
    }
   ],
   "metadata": {
    "collapsed": false,
    "deletable": true,
    "editable": true
   }
  },
  {
   "cell_type": "markdown",
   "source": [
    "### 5.1.2. DataFrame"
   ],
   "metadata": {
    "deletable": true,
    "editable": true
   }
  },
  {
   "cell_type": "markdown",
   "source": [
    "A `DataFrame represents a rectangular table of data and contains an ordered collection of columns`, each of which can be a `different value type` (numeric, string, boolean, etc.). The DataFrame has both a row and column index; it can be thought of as a dict of Series all sharing the same index. Under the hood, `the data is stored as one or more two-dimensional blocks rather than a list, dict, or some other collection of one-dimensional arrays`. <br>\r\n",
    "The exact details of DataFrame’s internals are outside the scope of this book."
   ],
   "metadata": {}
  },
  {
   "cell_type": "markdown",
   "source": [
    "There are many ways to construct a DataFrame, though one of the most common is from a dict of `equal-length lists` or `NumPy arrays`:"
   ],
   "metadata": {}
  },
  {
   "cell_type": "code",
   "execution_count": 136,
   "source": [
    "data = {'state': ['Ohio', 'Ohio', 'Ohio', 'Nevada', 'Nevada', 'Nevada'], #@P: each list has to be equal in length (6)\r\n",
    "        'year': [2000, 2001, 2002, 2001, 2002, 2003],\r\n",
    "        'pop': [1.5, 1.7, 3.6, 2.4, 2.9, 3.2]}\r\n",
    "frame = pd.DataFrame(data)"
   ],
   "outputs": [],
   "metadata": {
    "collapsed": false,
    "deletable": true,
    "editable": true
   }
  },
  {
   "cell_type": "markdown",
   "source": [
    "The resulting DataFrame will have its index assigned automatically as with Series, and the columns are placed in sorted order:"
   ],
   "metadata": {}
  },
  {
   "cell_type": "code",
   "execution_count": 137,
   "source": [
    "frame"
   ],
   "outputs": [
    {
     "output_type": "execute_result",
     "data": {
      "text/plain": [
       "    state  year  pop\n",
       "0    Ohio  2000  1.5\n",
       "1    Ohio  2001  1.7\n",
       "2    Ohio  2002  3.6\n",
       "3  Nevada  2001  2.4\n",
       "4  Nevada  2002  2.9\n",
       "5  Nevada  2003  3.2"
      ],
      "text/html": [
       "<div>\n",
       "<style scoped>\n",
       "    .dataframe tbody tr th:only-of-type {\n",
       "        vertical-align: middle;\n",
       "    }\n",
       "\n",
       "    .dataframe tbody tr th {\n",
       "        vertical-align: top;\n",
       "    }\n",
       "\n",
       "    .dataframe thead th {\n",
       "        text-align: right;\n",
       "    }\n",
       "</style>\n",
       "<table border=\"1\" class=\"dataframe\">\n",
       "  <thead>\n",
       "    <tr style=\"text-align: right;\">\n",
       "      <th></th>\n",
       "      <th>state</th>\n",
       "      <th>year</th>\n",
       "      <th>pop</th>\n",
       "    </tr>\n",
       "  </thead>\n",
       "  <tbody>\n",
       "    <tr>\n",
       "      <th>0</th>\n",
       "      <td>Ohio</td>\n",
       "      <td>2000</td>\n",
       "      <td>1.5</td>\n",
       "    </tr>\n",
       "    <tr>\n",
       "      <th>1</th>\n",
       "      <td>Ohio</td>\n",
       "      <td>2001</td>\n",
       "      <td>1.7</td>\n",
       "    </tr>\n",
       "    <tr>\n",
       "      <th>2</th>\n",
       "      <td>Ohio</td>\n",
       "      <td>2002</td>\n",
       "      <td>3.6</td>\n",
       "    </tr>\n",
       "    <tr>\n",
       "      <th>3</th>\n",
       "      <td>Nevada</td>\n",
       "      <td>2001</td>\n",
       "      <td>2.4</td>\n",
       "    </tr>\n",
       "    <tr>\n",
       "      <th>4</th>\n",
       "      <td>Nevada</td>\n",
       "      <td>2002</td>\n",
       "      <td>2.9</td>\n",
       "    </tr>\n",
       "    <tr>\n",
       "      <th>5</th>\n",
       "      <td>Nevada</td>\n",
       "      <td>2003</td>\n",
       "      <td>3.2</td>\n",
       "    </tr>\n",
       "  </tbody>\n",
       "</table>\n",
       "</div>"
      ]
     },
     "metadata": {},
     "execution_count": 137
    }
   ],
   "metadata": {
    "collapsed": false,
    "deletable": true,
    "editable": true
   }
  },
  {
   "cell_type": "code",
   "execution_count": 138,
   "source": [
    "type(frame)\r\n",
    "#Output:pandas.core.frame.DataFrame\r\n",
    "#Series_type checking above: pandas.core.series.Series"
   ],
   "outputs": [
    {
     "output_type": "execute_result",
     "data": {
      "text/plain": [
       "pandas.core.frame.DataFrame"
      ]
     },
     "metadata": {},
     "execution_count": 138
    }
   ],
   "metadata": {}
  },
  {
   "cell_type": "markdown",
   "source": [
    "For large DataFrames, the `head method` selects only the first five rows"
   ],
   "metadata": {}
  },
  {
   "cell_type": "code",
   "execution_count": 146,
   "source": [
    "frame.head()"
   ],
   "outputs": [
    {
     "output_type": "execute_result",
     "data": {
      "text/plain": [
       "    state  year  pop\n",
       "0    Ohio  2000  1.5\n",
       "1    Ohio  2001  1.7\n",
       "2    Ohio  2002  3.6\n",
       "3  Nevada  2001  2.4\n",
       "4  Nevada  2002  2.9"
      ],
      "text/html": [
       "<div>\n",
       "<style scoped>\n",
       "    .dataframe tbody tr th:only-of-type {\n",
       "        vertical-align: middle;\n",
       "    }\n",
       "\n",
       "    .dataframe tbody tr th {\n",
       "        vertical-align: top;\n",
       "    }\n",
       "\n",
       "    .dataframe thead th {\n",
       "        text-align: right;\n",
       "    }\n",
       "</style>\n",
       "<table border=\"1\" class=\"dataframe\">\n",
       "  <thead>\n",
       "    <tr style=\"text-align: right;\">\n",
       "      <th></th>\n",
       "      <th>state</th>\n",
       "      <th>year</th>\n",
       "      <th>pop</th>\n",
       "    </tr>\n",
       "  </thead>\n",
       "  <tbody>\n",
       "    <tr>\n",
       "      <th>0</th>\n",
       "      <td>Ohio</td>\n",
       "      <td>2000</td>\n",
       "      <td>1.5</td>\n",
       "    </tr>\n",
       "    <tr>\n",
       "      <th>1</th>\n",
       "      <td>Ohio</td>\n",
       "      <td>2001</td>\n",
       "      <td>1.7</td>\n",
       "    </tr>\n",
       "    <tr>\n",
       "      <th>2</th>\n",
       "      <td>Ohio</td>\n",
       "      <td>2002</td>\n",
       "      <td>3.6</td>\n",
       "    </tr>\n",
       "    <tr>\n",
       "      <th>3</th>\n",
       "      <td>Nevada</td>\n",
       "      <td>2001</td>\n",
       "      <td>2.4</td>\n",
       "    </tr>\n",
       "    <tr>\n",
       "      <th>4</th>\n",
       "      <td>Nevada</td>\n",
       "      <td>2002</td>\n",
       "      <td>2.9</td>\n",
       "    </tr>\n",
       "  </tbody>\n",
       "</table>\n",
       "</div>"
      ]
     },
     "metadata": {},
     "execution_count": 146
    }
   ],
   "metadata": {
    "collapsed": false,
    "deletable": true,
    "editable": true
   }
  },
  {
   "cell_type": "markdown",
   "source": [
    "If you `specify a sequence of columns`, the DataFrame’s columns will be arranged in that order:"
   ],
   "metadata": {}
  },
  {
   "cell_type": "code",
   "execution_count": 142,
   "source": [
    "pd.DataFrame(data, columns=['year', 'state', 'pop'])"
   ],
   "outputs": [
    {
     "output_type": "execute_result",
     "data": {
      "text/plain": [
       "   year   state  pop\n",
       "0  2000    Ohio  1.5\n",
       "1  2001    Ohio  1.7\n",
       "2  2002    Ohio  3.6\n",
       "3  2001  Nevada  2.4\n",
       "4  2002  Nevada  2.9\n",
       "5  2003  Nevada  3.2"
      ],
      "text/html": [
       "<div>\n",
       "<style scoped>\n",
       "    .dataframe tbody tr th:only-of-type {\n",
       "        vertical-align: middle;\n",
       "    }\n",
       "\n",
       "    .dataframe tbody tr th {\n",
       "        vertical-align: top;\n",
       "    }\n",
       "\n",
       "    .dataframe thead th {\n",
       "        text-align: right;\n",
       "    }\n",
       "</style>\n",
       "<table border=\"1\" class=\"dataframe\">\n",
       "  <thead>\n",
       "    <tr style=\"text-align: right;\">\n",
       "      <th></th>\n",
       "      <th>year</th>\n",
       "      <th>state</th>\n",
       "      <th>pop</th>\n",
       "    </tr>\n",
       "  </thead>\n",
       "  <tbody>\n",
       "    <tr>\n",
       "      <th>0</th>\n",
       "      <td>2000</td>\n",
       "      <td>Ohio</td>\n",
       "      <td>1.5</td>\n",
       "    </tr>\n",
       "    <tr>\n",
       "      <th>1</th>\n",
       "      <td>2001</td>\n",
       "      <td>Ohio</td>\n",
       "      <td>1.7</td>\n",
       "    </tr>\n",
       "    <tr>\n",
       "      <th>2</th>\n",
       "      <td>2002</td>\n",
       "      <td>Ohio</td>\n",
       "      <td>3.6</td>\n",
       "    </tr>\n",
       "    <tr>\n",
       "      <th>3</th>\n",
       "      <td>2001</td>\n",
       "      <td>Nevada</td>\n",
       "      <td>2.4</td>\n",
       "    </tr>\n",
       "    <tr>\n",
       "      <th>4</th>\n",
       "      <td>2002</td>\n",
       "      <td>Nevada</td>\n",
       "      <td>2.9</td>\n",
       "    </tr>\n",
       "    <tr>\n",
       "      <th>5</th>\n",
       "      <td>2003</td>\n",
       "      <td>Nevada</td>\n",
       "      <td>3.2</td>\n",
       "    </tr>\n",
       "  </tbody>\n",
       "</table>\n",
       "</div>"
      ]
     },
     "metadata": {},
     "execution_count": 142
    }
   ],
   "metadata": {
    "collapsed": false,
    "deletable": true,
    "editable": true
   }
  },
  {
   "cell_type": "code",
   "execution_count": 147,
   "source": [
    "#If you pass a column that isn’t contained in the dict, it will appear with missing values in the result: (@P: here we add debt column -> it will shown up as NaN)\r\n",
    "frame2 = pd.DataFrame(data, columns=['year', 'state', 'pop', 'debt'],\r\n",
    "                      index=['one', 'two', 'three', 'four',\r\n",
    "                             'five', 'six'])\r\n",
    "frame2"
   ],
   "outputs": [
    {
     "output_type": "execute_result",
     "data": {
      "text/plain": [
       "       year   state  pop debt\n",
       "one    2000    Ohio  1.5  NaN\n",
       "two    2001    Ohio  1.7  NaN\n",
       "three  2002    Ohio  3.6  NaN\n",
       "four   2001  Nevada  2.4  NaN\n",
       "five   2002  Nevada  2.9  NaN\n",
       "six    2003  Nevada  3.2  NaN"
      ],
      "text/html": [
       "<div>\n",
       "<style scoped>\n",
       "    .dataframe tbody tr th:only-of-type {\n",
       "        vertical-align: middle;\n",
       "    }\n",
       "\n",
       "    .dataframe tbody tr th {\n",
       "        vertical-align: top;\n",
       "    }\n",
       "\n",
       "    .dataframe thead th {\n",
       "        text-align: right;\n",
       "    }\n",
       "</style>\n",
       "<table border=\"1\" class=\"dataframe\">\n",
       "  <thead>\n",
       "    <tr style=\"text-align: right;\">\n",
       "      <th></th>\n",
       "      <th>year</th>\n",
       "      <th>state</th>\n",
       "      <th>pop</th>\n",
       "      <th>debt</th>\n",
       "    </tr>\n",
       "  </thead>\n",
       "  <tbody>\n",
       "    <tr>\n",
       "      <th>one</th>\n",
       "      <td>2000</td>\n",
       "      <td>Ohio</td>\n",
       "      <td>1.5</td>\n",
       "      <td>NaN</td>\n",
       "    </tr>\n",
       "    <tr>\n",
       "      <th>two</th>\n",
       "      <td>2001</td>\n",
       "      <td>Ohio</td>\n",
       "      <td>1.7</td>\n",
       "      <td>NaN</td>\n",
       "    </tr>\n",
       "    <tr>\n",
       "      <th>three</th>\n",
       "      <td>2002</td>\n",
       "      <td>Ohio</td>\n",
       "      <td>3.6</td>\n",
       "      <td>NaN</td>\n",
       "    </tr>\n",
       "    <tr>\n",
       "      <th>four</th>\n",
       "      <td>2001</td>\n",
       "      <td>Nevada</td>\n",
       "      <td>2.4</td>\n",
       "      <td>NaN</td>\n",
       "    </tr>\n",
       "    <tr>\n",
       "      <th>five</th>\n",
       "      <td>2002</td>\n",
       "      <td>Nevada</td>\n",
       "      <td>2.9</td>\n",
       "      <td>NaN</td>\n",
       "    </tr>\n",
       "    <tr>\n",
       "      <th>six</th>\n",
       "      <td>2003</td>\n",
       "      <td>Nevada</td>\n",
       "      <td>3.2</td>\n",
       "      <td>NaN</td>\n",
       "    </tr>\n",
       "  </tbody>\n",
       "</table>\n",
       "</div>"
      ]
     },
     "metadata": {},
     "execution_count": 147
    }
   ],
   "metadata": {
    "collapsed": false,
    "deletable": true,
    "editable": true
   }
  },
  {
   "cell_type": "code",
   "execution_count": 148,
   "source": [
    "frame2.columns"
   ],
   "outputs": [
    {
     "output_type": "execute_result",
     "data": {
      "text/plain": [
       "Index(['year', 'state', 'pop', 'debt'], dtype='object')"
      ]
     },
     "metadata": {},
     "execution_count": 148
    }
   ],
   "metadata": {}
  },
  {
   "cell_type": "markdown",
   "source": [
    "`A column` in a DataFrame can be retrieved as a Series either by `dict-like notation` or `by attribute`:"
   ],
   "metadata": {}
  },
  {
   "cell_type": "code",
   "execution_count": 107,
   "source": [
    "frame2['state'] #@P: dict-like notion"
   ],
   "outputs": [
    {
     "output_type": "execute_result",
     "data": {
      "text/plain": [
       "one      2000\n",
       "two      2001\n",
       "three    2002\n",
       "four     2001\n",
       "five     2002\n",
       "six      2003\n",
       "Name: year, dtype: int64"
      ]
     },
     "metadata": {},
     "execution_count": 107
    }
   ],
   "metadata": {
    "collapsed": false,
    "deletable": true,
    "editable": true
   }
  },
  {
   "cell_type": "code",
   "execution_count": 149,
   "source": [
    "frame2.year #@P: attribute to retrieve colume"
   ],
   "outputs": [
    {
     "output_type": "execute_result",
     "data": {
      "text/plain": [
       "one      2000\n",
       "two      2001\n",
       "three    2002\n",
       "four     2001\n",
       "five     2002\n",
       "six      2003\n",
       "Name: year, dtype: int64"
      ]
     },
     "metadata": {},
     "execution_count": 149
    }
   ],
   "metadata": {}
  },
  {
   "cell_type": "markdown",
   "source": [
    "**NOTE** <br>\r\n",
    "*Attribute-like access* (e.g., `frame2.year`) and tab completion of column names in IPython is provided as a convenience.<br>\r\n",
    "frame2[column] works for any column name, but `frame2.column` *only works when the column name is a valid Python variable name*.\r\n",
    "<br> Note that the `returned Series` have the `same index as the DataFrame`, and their name attribute has been appropriately set.\r\n"
   ],
   "metadata": {}
  },
  {
   "cell_type": "markdown",
   "source": [
    "`Rows` can also be *retrieved* `by position` or `name with the special loc attribute` (much more on this later):"
   ],
   "metadata": {}
  },
  {
   "cell_type": "code",
   "execution_count": 151,
   "source": [
    "frame2.loc['three']"
   ],
   "outputs": [
    {
     "output_type": "execute_result",
     "data": {
      "text/plain": [
       "year     2002\n",
       "state    Ohio\n",
       "pop       3.6\n",
       "debt      NaN\n",
       "Name: three, dtype: object"
      ]
     },
     "metadata": {},
     "execution_count": 151
    }
   ],
   "metadata": {
    "collapsed": false,
    "deletable": true,
    "editable": true
   }
  },
  {
   "cell_type": "markdown",
   "source": [
    "`Columns can be modified by assignment`. For example, the empty 'debt' column could be assigned a scalar value or an array of values:"
   ],
   "metadata": {}
  },
  {
   "cell_type": "code",
   "execution_count": 152,
   "source": [
    "frame2['debt'] = 16.5\r\n",
    "frame2"
   ],
   "outputs": [
    {
     "output_type": "execute_result",
     "data": {
      "text/plain": [
       "       year   state  pop  debt\n",
       "one    2000    Ohio  1.5  16.5\n",
       "two    2001    Ohio  1.7  16.5\n",
       "three  2002    Ohio  3.6  16.5\n",
       "four   2001  Nevada  2.4  16.5\n",
       "five   2002  Nevada  2.9  16.5\n",
       "six    2003  Nevada  3.2  16.5"
      ],
      "text/html": [
       "<div>\n",
       "<style scoped>\n",
       "    .dataframe tbody tr th:only-of-type {\n",
       "        vertical-align: middle;\n",
       "    }\n",
       "\n",
       "    .dataframe tbody tr th {\n",
       "        vertical-align: top;\n",
       "    }\n",
       "\n",
       "    .dataframe thead th {\n",
       "        text-align: right;\n",
       "    }\n",
       "</style>\n",
       "<table border=\"1\" class=\"dataframe\">\n",
       "  <thead>\n",
       "    <tr style=\"text-align: right;\">\n",
       "      <th></th>\n",
       "      <th>year</th>\n",
       "      <th>state</th>\n",
       "      <th>pop</th>\n",
       "      <th>debt</th>\n",
       "    </tr>\n",
       "  </thead>\n",
       "  <tbody>\n",
       "    <tr>\n",
       "      <th>one</th>\n",
       "      <td>2000</td>\n",
       "      <td>Ohio</td>\n",
       "      <td>1.5</td>\n",
       "      <td>16.5</td>\n",
       "    </tr>\n",
       "    <tr>\n",
       "      <th>two</th>\n",
       "      <td>2001</td>\n",
       "      <td>Ohio</td>\n",
       "      <td>1.7</td>\n",
       "      <td>16.5</td>\n",
       "    </tr>\n",
       "    <tr>\n",
       "      <th>three</th>\n",
       "      <td>2002</td>\n",
       "      <td>Ohio</td>\n",
       "      <td>3.6</td>\n",
       "      <td>16.5</td>\n",
       "    </tr>\n",
       "    <tr>\n",
       "      <th>four</th>\n",
       "      <td>2001</td>\n",
       "      <td>Nevada</td>\n",
       "      <td>2.4</td>\n",
       "      <td>16.5</td>\n",
       "    </tr>\n",
       "    <tr>\n",
       "      <th>five</th>\n",
       "      <td>2002</td>\n",
       "      <td>Nevada</td>\n",
       "      <td>2.9</td>\n",
       "      <td>16.5</td>\n",
       "    </tr>\n",
       "    <tr>\n",
       "      <th>six</th>\n",
       "      <td>2003</td>\n",
       "      <td>Nevada</td>\n",
       "      <td>3.2</td>\n",
       "      <td>16.5</td>\n",
       "    </tr>\n",
       "  </tbody>\n",
       "</table>\n",
       "</div>"
      ]
     },
     "metadata": {},
     "execution_count": 152
    }
   ],
   "metadata": {
    "collapsed": false,
    "deletable": true,
    "editable": true
   }
  },
  {
   "cell_type": "code",
   "execution_count": 153,
   "source": [
    "frame2['debt'] = np.arange(6.)\r\n",
    "frame2"
   ],
   "outputs": [
    {
     "output_type": "execute_result",
     "data": {
      "text/plain": [
       "       year   state  pop  debt\n",
       "one    2000    Ohio  1.5   0.0\n",
       "two    2001    Ohio  1.7   1.0\n",
       "three  2002    Ohio  3.6   2.0\n",
       "four   2001  Nevada  2.4   3.0\n",
       "five   2002  Nevada  2.9   4.0\n",
       "six    2003  Nevada  3.2   5.0"
      ],
      "text/html": [
       "<div>\n",
       "<style scoped>\n",
       "    .dataframe tbody tr th:only-of-type {\n",
       "        vertical-align: middle;\n",
       "    }\n",
       "\n",
       "    .dataframe tbody tr th {\n",
       "        vertical-align: top;\n",
       "    }\n",
       "\n",
       "    .dataframe thead th {\n",
       "        text-align: right;\n",
       "    }\n",
       "</style>\n",
       "<table border=\"1\" class=\"dataframe\">\n",
       "  <thead>\n",
       "    <tr style=\"text-align: right;\">\n",
       "      <th></th>\n",
       "      <th>year</th>\n",
       "      <th>state</th>\n",
       "      <th>pop</th>\n",
       "      <th>debt</th>\n",
       "    </tr>\n",
       "  </thead>\n",
       "  <tbody>\n",
       "    <tr>\n",
       "      <th>one</th>\n",
       "      <td>2000</td>\n",
       "      <td>Ohio</td>\n",
       "      <td>1.5</td>\n",
       "      <td>0.0</td>\n",
       "    </tr>\n",
       "    <tr>\n",
       "      <th>two</th>\n",
       "      <td>2001</td>\n",
       "      <td>Ohio</td>\n",
       "      <td>1.7</td>\n",
       "      <td>1.0</td>\n",
       "    </tr>\n",
       "    <tr>\n",
       "      <th>three</th>\n",
       "      <td>2002</td>\n",
       "      <td>Ohio</td>\n",
       "      <td>3.6</td>\n",
       "      <td>2.0</td>\n",
       "    </tr>\n",
       "    <tr>\n",
       "      <th>four</th>\n",
       "      <td>2001</td>\n",
       "      <td>Nevada</td>\n",
       "      <td>2.4</td>\n",
       "      <td>3.0</td>\n",
       "    </tr>\n",
       "    <tr>\n",
       "      <th>five</th>\n",
       "      <td>2002</td>\n",
       "      <td>Nevada</td>\n",
       "      <td>2.9</td>\n",
       "      <td>4.0</td>\n",
       "    </tr>\n",
       "    <tr>\n",
       "      <th>six</th>\n",
       "      <td>2003</td>\n",
       "      <td>Nevada</td>\n",
       "      <td>3.2</td>\n",
       "      <td>5.0</td>\n",
       "    </tr>\n",
       "  </tbody>\n",
       "</table>\n",
       "</div>"
      ]
     },
     "metadata": {},
     "execution_count": 153
    }
   ],
   "metadata": {}
  },
  {
   "cell_type": "markdown",
   "source": [
    "When you are assigning lists or arrays to a column, the value’s length must match the length of the DataFrame. If you assign a Series, its labels will be realigned exactly to the DataFrame’s index, inserting missing values in any holes:"
   ],
   "metadata": {}
  },
  {
   "cell_type": "code",
   "execution_count": 158,
   "source": [
    "val = pd.Series([-1.2, -1.5, -1.7], index=['two', 'four', 'five'])\r\n",
    "val"
   ],
   "outputs": [
    {
     "output_type": "execute_result",
     "data": {
      "text/plain": [
       "two    -1.2\n",
       "four   -1.5\n",
       "five   -1.7\n",
       "dtype: float64"
      ]
     },
     "metadata": {},
     "execution_count": 158
    }
   ],
   "metadata": {
    "collapsed": false,
    "deletable": true,
    "editable": true
   }
  },
  {
   "cell_type": "code",
   "execution_count": 156,
   "source": [
    "frame2['debt'] = val\r\n",
    "frame2"
   ],
   "outputs": [
    {
     "output_type": "execute_result",
     "data": {
      "text/plain": [
       "       year   state  pop  debt\n",
       "one    2000    Ohio  1.5   NaN\n",
       "two    2001    Ohio  1.7  -1.2\n",
       "three  2002    Ohio  3.6   NaN\n",
       "four   2001  Nevada  2.4  -1.5\n",
       "five   2002  Nevada  2.9  -1.7\n",
       "six    2003  Nevada  3.2   NaN"
      ],
      "text/html": [
       "<div>\n",
       "<style scoped>\n",
       "    .dataframe tbody tr th:only-of-type {\n",
       "        vertical-align: middle;\n",
       "    }\n",
       "\n",
       "    .dataframe tbody tr th {\n",
       "        vertical-align: top;\n",
       "    }\n",
       "\n",
       "    .dataframe thead th {\n",
       "        text-align: right;\n",
       "    }\n",
       "</style>\n",
       "<table border=\"1\" class=\"dataframe\">\n",
       "  <thead>\n",
       "    <tr style=\"text-align: right;\">\n",
       "      <th></th>\n",
       "      <th>year</th>\n",
       "      <th>state</th>\n",
       "      <th>pop</th>\n",
       "      <th>debt</th>\n",
       "    </tr>\n",
       "  </thead>\n",
       "  <tbody>\n",
       "    <tr>\n",
       "      <th>one</th>\n",
       "      <td>2000</td>\n",
       "      <td>Ohio</td>\n",
       "      <td>1.5</td>\n",
       "      <td>NaN</td>\n",
       "    </tr>\n",
       "    <tr>\n",
       "      <th>two</th>\n",
       "      <td>2001</td>\n",
       "      <td>Ohio</td>\n",
       "      <td>1.7</td>\n",
       "      <td>-1.2</td>\n",
       "    </tr>\n",
       "    <tr>\n",
       "      <th>three</th>\n",
       "      <td>2002</td>\n",
       "      <td>Ohio</td>\n",
       "      <td>3.6</td>\n",
       "      <td>NaN</td>\n",
       "    </tr>\n",
       "    <tr>\n",
       "      <th>four</th>\n",
       "      <td>2001</td>\n",
       "      <td>Nevada</td>\n",
       "      <td>2.4</td>\n",
       "      <td>-1.5</td>\n",
       "    </tr>\n",
       "    <tr>\n",
       "      <th>five</th>\n",
       "      <td>2002</td>\n",
       "      <td>Nevada</td>\n",
       "      <td>2.9</td>\n",
       "      <td>-1.7</td>\n",
       "    </tr>\n",
       "    <tr>\n",
       "      <th>six</th>\n",
       "      <td>2003</td>\n",
       "      <td>Nevada</td>\n",
       "      <td>3.2</td>\n",
       "      <td>NaN</td>\n",
       "    </tr>\n",
       "  </tbody>\n",
       "</table>\n",
       "</div>"
      ]
     },
     "metadata": {},
     "execution_count": 156
    }
   ],
   "metadata": {}
  },
  {
   "cell_type": "markdown",
   "source": [
    "Assigning a column that doesn’t exist will create a new column. The `del` keyword will delete columns as with a dict.<br>\r\n",
    "As an example of del, I first add a new column of boolean values where the state column equals 'Ohio':\r\n",
    "<br> **CAUTION**<br>\r\n",
    "New columns cannot be created with the frame2.eastern syntax."
   ],
   "metadata": {}
  },
  {
   "cell_type": "code",
   "execution_count": 159,
   "source": [
    "frame2['eastern'] = frame2.state == 'Ohio'\r\n",
    "frame2"
   ],
   "outputs": [
    {
     "output_type": "execute_result",
     "data": {
      "text/plain": [
       "       year   state  pop  debt  eastern\n",
       "one    2000    Ohio  1.5   NaN     True\n",
       "two    2001    Ohio  1.7  -1.2     True\n",
       "three  2002    Ohio  3.6   NaN     True\n",
       "four   2001  Nevada  2.4  -1.5    False\n",
       "five   2002  Nevada  2.9  -1.7    False\n",
       "six    2003  Nevada  3.2   NaN    False"
      ],
      "text/html": [
       "<div>\n",
       "<style scoped>\n",
       "    .dataframe tbody tr th:only-of-type {\n",
       "        vertical-align: middle;\n",
       "    }\n",
       "\n",
       "    .dataframe tbody tr th {\n",
       "        vertical-align: top;\n",
       "    }\n",
       "\n",
       "    .dataframe thead th {\n",
       "        text-align: right;\n",
       "    }\n",
       "</style>\n",
       "<table border=\"1\" class=\"dataframe\">\n",
       "  <thead>\n",
       "    <tr style=\"text-align: right;\">\n",
       "      <th></th>\n",
       "      <th>year</th>\n",
       "      <th>state</th>\n",
       "      <th>pop</th>\n",
       "      <th>debt</th>\n",
       "      <th>eastern</th>\n",
       "    </tr>\n",
       "  </thead>\n",
       "  <tbody>\n",
       "    <tr>\n",
       "      <th>one</th>\n",
       "      <td>2000</td>\n",
       "      <td>Ohio</td>\n",
       "      <td>1.5</td>\n",
       "      <td>NaN</td>\n",
       "      <td>True</td>\n",
       "    </tr>\n",
       "    <tr>\n",
       "      <th>two</th>\n",
       "      <td>2001</td>\n",
       "      <td>Ohio</td>\n",
       "      <td>1.7</td>\n",
       "      <td>-1.2</td>\n",
       "      <td>True</td>\n",
       "    </tr>\n",
       "    <tr>\n",
       "      <th>three</th>\n",
       "      <td>2002</td>\n",
       "      <td>Ohio</td>\n",
       "      <td>3.6</td>\n",
       "      <td>NaN</td>\n",
       "      <td>True</td>\n",
       "    </tr>\n",
       "    <tr>\n",
       "      <th>four</th>\n",
       "      <td>2001</td>\n",
       "      <td>Nevada</td>\n",
       "      <td>2.4</td>\n",
       "      <td>-1.5</td>\n",
       "      <td>False</td>\n",
       "    </tr>\n",
       "    <tr>\n",
       "      <th>five</th>\n",
       "      <td>2002</td>\n",
       "      <td>Nevada</td>\n",
       "      <td>2.9</td>\n",
       "      <td>-1.7</td>\n",
       "      <td>False</td>\n",
       "    </tr>\n",
       "    <tr>\n",
       "      <th>six</th>\n",
       "      <td>2003</td>\n",
       "      <td>Nevada</td>\n",
       "      <td>3.2</td>\n",
       "      <td>NaN</td>\n",
       "      <td>False</td>\n",
       "    </tr>\n",
       "  </tbody>\n",
       "</table>\n",
       "</div>"
      ]
     },
     "metadata": {},
     "execution_count": 159
    }
   ],
   "metadata": {
    "collapsed": false,
    "deletable": true,
    "editable": true
   }
  },
  {
   "cell_type": "markdown",
   "source": [
    "The `del method` can then be used to remove this column:"
   ],
   "metadata": {}
  },
  {
   "cell_type": "code",
   "execution_count": 160,
   "source": [
    "del frame2['eastern']\r\n",
    "frame2.columns"
   ],
   "outputs": [
    {
     "output_type": "execute_result",
     "data": {
      "text/plain": [
       "Index(['year', 'state', 'pop', 'debt'], dtype='object')"
      ]
     },
     "metadata": {},
     "execution_count": 160
    }
   ],
   "metadata": {
    "collapsed": false,
    "deletable": true,
    "editable": true
   }
  },
  {
   "cell_type": "markdown",
   "source": [
    "**CAUTION** <br>\r\n",
    "The column returned from indexing a DataFrame is a view on the underlying data, not a copy. Thus, any in-place modifications to the Series will be reflected in the DataFrame. The column can be explicitly copied with the Series’s copy method."
   ],
   "metadata": {}
  },
  {
   "cell_type": "markdown",
   "source": [
    "Another common form of data is a `nested dict of dicts`:"
   ],
   "metadata": {}
  },
  {
   "cell_type": "code",
   "execution_count": 161,
   "source": [
    "pop = {'Nevada': {2001: 2.4, 2002: 2.9},\r\n",
    "       'Ohio': {2000: 1.5, 2001: 1.7, 2002: 3.6}}"
   ],
   "outputs": [],
   "metadata": {
    "collapsed": false,
    "deletable": true,
    "editable": true
   }
  },
  {
   "cell_type": "markdown",
   "source": [
    "If the nested dict is passed to the DataFrame, `pandas` will interpret the `outer dict keys` as the `columns` and the `inner keys` as the `row indices`:"
   ],
   "metadata": {}
  },
  {
   "cell_type": "code",
   "execution_count": 162,
   "source": [
    "frame3 = pd.DataFrame(pop) #@P:outer: year -> column (2000,2001,2002); inner: population -> row (horizontally)\r\n",
    "frame3"
   ],
   "outputs": [
    {
     "output_type": "execute_result",
     "data": {
      "text/plain": [
       "      Nevada  Ohio\n",
       "2001     2.4   1.7\n",
       "2002     2.9   3.6\n",
       "2000     NaN   1.5"
      ],
      "text/html": [
       "<div>\n",
       "<style scoped>\n",
       "    .dataframe tbody tr th:only-of-type {\n",
       "        vertical-align: middle;\n",
       "    }\n",
       "\n",
       "    .dataframe tbody tr th {\n",
       "        vertical-align: top;\n",
       "    }\n",
       "\n",
       "    .dataframe thead th {\n",
       "        text-align: right;\n",
       "    }\n",
       "</style>\n",
       "<table border=\"1\" class=\"dataframe\">\n",
       "  <thead>\n",
       "    <tr style=\"text-align: right;\">\n",
       "      <th></th>\n",
       "      <th>Nevada</th>\n",
       "      <th>Ohio</th>\n",
       "    </tr>\n",
       "  </thead>\n",
       "  <tbody>\n",
       "    <tr>\n",
       "      <th>2001</th>\n",
       "      <td>2.4</td>\n",
       "      <td>1.7</td>\n",
       "    </tr>\n",
       "    <tr>\n",
       "      <th>2002</th>\n",
       "      <td>2.9</td>\n",
       "      <td>3.6</td>\n",
       "    </tr>\n",
       "    <tr>\n",
       "      <th>2000</th>\n",
       "      <td>NaN</td>\n",
       "      <td>1.5</td>\n",
       "    </tr>\n",
       "  </tbody>\n",
       "</table>\n",
       "</div>"
      ]
     },
     "metadata": {},
     "execution_count": 162
    }
   ],
   "metadata": {
    "collapsed": false,
    "deletable": true,
    "editable": true
   }
  },
  {
   "cell_type": "markdown",
   "source": [
    "* You can `transpose the DataFrame` (swap rows and columns) with similar syntax to a NumPy array:"
   ],
   "metadata": {}
  },
  {
   "cell_type": "code",
   "execution_count": 115,
   "source": [
    "frame3.T #-> year and state has transposed"
   ],
   "outputs": [
    {
     "output_type": "execute_result",
     "data": {
      "text/plain": [
       "        2001  2002  2000\n",
       "Nevada   2.4   2.9   NaN\n",
       "Ohio     1.7   3.6   1.5"
      ],
      "text/html": [
       "<div>\n",
       "<style scoped>\n",
       "    .dataframe tbody tr th:only-of-type {\n",
       "        vertical-align: middle;\n",
       "    }\n",
       "\n",
       "    .dataframe tbody tr th {\n",
       "        vertical-align: top;\n",
       "    }\n",
       "\n",
       "    .dataframe thead th {\n",
       "        text-align: right;\n",
       "    }\n",
       "</style>\n",
       "<table border=\"1\" class=\"dataframe\">\n",
       "  <thead>\n",
       "    <tr style=\"text-align: right;\">\n",
       "      <th></th>\n",
       "      <th>2001</th>\n",
       "      <th>2002</th>\n",
       "      <th>2000</th>\n",
       "    </tr>\n",
       "  </thead>\n",
       "  <tbody>\n",
       "    <tr>\n",
       "      <th>Nevada</th>\n",
       "      <td>2.4</td>\n",
       "      <td>2.9</td>\n",
       "      <td>NaN</td>\n",
       "    </tr>\n",
       "    <tr>\n",
       "      <th>Ohio</th>\n",
       "      <td>1.7</td>\n",
       "      <td>3.6</td>\n",
       "      <td>1.5</td>\n",
       "    </tr>\n",
       "  </tbody>\n",
       "</table>\n",
       "</div>"
      ]
     },
     "metadata": {},
     "execution_count": 115
    }
   ],
   "metadata": {
    "collapsed": false,
    "deletable": true,
    "editable": true
   }
  },
  {
   "cell_type": "markdown",
   "source": [
    "The keys in the inner dicts are combined and sorted to form the index in the result. This isn’t true if an explicit index is specified:"
   ],
   "metadata": {}
  },
  {
   "cell_type": "code",
   "execution_count": 163,
   "source": [
    "pd.DataFrame(pop, index=[2001, 2002, 2003]) #when the index is explicitly specified here -> will follow this index"
   ],
   "outputs": [
    {
     "output_type": "execute_result",
     "data": {
      "text/plain": [
       "      Nevada  Ohio\n",
       "2001     2.4   1.7\n",
       "2002     2.9   3.6\n",
       "2003     NaN   NaN"
      ],
      "text/html": [
       "<div>\n",
       "<style scoped>\n",
       "    .dataframe tbody tr th:only-of-type {\n",
       "        vertical-align: middle;\n",
       "    }\n",
       "\n",
       "    .dataframe tbody tr th {\n",
       "        vertical-align: top;\n",
       "    }\n",
       "\n",
       "    .dataframe thead th {\n",
       "        text-align: right;\n",
       "    }\n",
       "</style>\n",
       "<table border=\"1\" class=\"dataframe\">\n",
       "  <thead>\n",
       "    <tr style=\"text-align: right;\">\n",
       "      <th></th>\n",
       "      <th>Nevada</th>\n",
       "      <th>Ohio</th>\n",
       "    </tr>\n",
       "  </thead>\n",
       "  <tbody>\n",
       "    <tr>\n",
       "      <th>2001</th>\n",
       "      <td>2.4</td>\n",
       "      <td>1.7</td>\n",
       "    </tr>\n",
       "    <tr>\n",
       "      <th>2002</th>\n",
       "      <td>2.9</td>\n",
       "      <td>3.6</td>\n",
       "    </tr>\n",
       "    <tr>\n",
       "      <th>2003</th>\n",
       "      <td>NaN</td>\n",
       "      <td>NaN</td>\n",
       "    </tr>\n",
       "  </tbody>\n",
       "</table>\n",
       "</div>"
      ]
     },
     "metadata": {},
     "execution_count": 163
    }
   ],
   "metadata": {
    "collapsed": false,
    "deletable": true,
    "editable": true
   }
  },
  {
   "cell_type": "markdown",
   "source": [
    "Dicts of Series are treated in much the same way:"
   ],
   "metadata": {}
  },
  {
   "cell_type": "code",
   "execution_count": 164,
   "source": [
    "pdata = {'Ohio': frame3['Ohio'][:-1],\r\n",
    "         'Nevada': frame3['Nevada'][:2]}\r\n",
    "pd.DataFrame(pdata)"
   ],
   "outputs": [
    {
     "output_type": "execute_result",
     "data": {
      "text/plain": [
       "      Ohio  Nevada\n",
       "2001   1.7     2.4\n",
       "2002   3.6     2.9"
      ],
      "text/html": [
       "<div>\n",
       "<style scoped>\n",
       "    .dataframe tbody tr th:only-of-type {\n",
       "        vertical-align: middle;\n",
       "    }\n",
       "\n",
       "    .dataframe tbody tr th {\n",
       "        vertical-align: top;\n",
       "    }\n",
       "\n",
       "    .dataframe thead th {\n",
       "        text-align: right;\n",
       "    }\n",
       "</style>\n",
       "<table border=\"1\" class=\"dataframe\">\n",
       "  <thead>\n",
       "    <tr style=\"text-align: right;\">\n",
       "      <th></th>\n",
       "      <th>Ohio</th>\n",
       "      <th>Nevada</th>\n",
       "    </tr>\n",
       "  </thead>\n",
       "  <tbody>\n",
       "    <tr>\n",
       "      <th>2001</th>\n",
       "      <td>1.7</td>\n",
       "      <td>2.4</td>\n",
       "    </tr>\n",
       "    <tr>\n",
       "      <th>2002</th>\n",
       "      <td>3.6</td>\n",
       "      <td>2.9</td>\n",
       "    </tr>\n",
       "  </tbody>\n",
       "</table>\n",
       "</div>"
      ]
     },
     "metadata": {},
     "execution_count": 164
    }
   ],
   "metadata": {
    "collapsed": false,
    "deletable": true,
    "editable": true
   }
  },
  {
   "cell_type": "markdown",
   "source": [
    "If a DataFrame’s `index` and `columns` have their name attributes set, these will also be displayed:"
   ],
   "metadata": {}
  },
  {
   "cell_type": "code",
   "execution_count": 165,
   "source": [
    "frame3.index.name = 'year'; frame3.columns.name = 'state'\r\n",
    "frame3"
   ],
   "outputs": [
    {
     "output_type": "execute_result",
     "data": {
      "text/plain": [
       "state  Nevada  Ohio\n",
       "year               \n",
       "2001      2.4   1.7\n",
       "2002      2.9   3.6\n",
       "2000      NaN   1.5"
      ],
      "text/html": [
       "<div>\n",
       "<style scoped>\n",
       "    .dataframe tbody tr th:only-of-type {\n",
       "        vertical-align: middle;\n",
       "    }\n",
       "\n",
       "    .dataframe tbody tr th {\n",
       "        vertical-align: top;\n",
       "    }\n",
       "\n",
       "    .dataframe thead th {\n",
       "        text-align: right;\n",
       "    }\n",
       "</style>\n",
       "<table border=\"1\" class=\"dataframe\">\n",
       "  <thead>\n",
       "    <tr style=\"text-align: right;\">\n",
       "      <th>state</th>\n",
       "      <th>Nevada</th>\n",
       "      <th>Ohio</th>\n",
       "    </tr>\n",
       "    <tr>\n",
       "      <th>year</th>\n",
       "      <th></th>\n",
       "      <th></th>\n",
       "    </tr>\n",
       "  </thead>\n",
       "  <tbody>\n",
       "    <tr>\n",
       "      <th>2001</th>\n",
       "      <td>2.4</td>\n",
       "      <td>1.7</td>\n",
       "    </tr>\n",
       "    <tr>\n",
       "      <th>2002</th>\n",
       "      <td>2.9</td>\n",
       "      <td>3.6</td>\n",
       "    </tr>\n",
       "    <tr>\n",
       "      <th>2000</th>\n",
       "      <td>NaN</td>\n",
       "      <td>1.5</td>\n",
       "    </tr>\n",
       "  </tbody>\n",
       "</table>\n",
       "</div>"
      ]
     },
     "metadata": {},
     "execution_count": 165
    }
   ],
   "metadata": {
    "collapsed": false,
    "deletable": true,
    "editable": true
   }
  },
  {
   "cell_type": "markdown",
   "source": [
    "As with Series, the `values` *attribute* returns the data contained in the DataFrame as a two-dimensional ndarray:"
   ],
   "metadata": {}
  },
  {
   "cell_type": "code",
   "execution_count": 166,
   "source": [
    "frame3.values"
   ],
   "outputs": [
    {
     "output_type": "execute_result",
     "data": {
      "text/plain": [
       "array([[2.4, 1.7],\n",
       "       [2.9, 3.6],\n",
       "       [nan, 1.5]])"
      ]
     },
     "metadata": {},
     "execution_count": 166
    }
   ],
   "metadata": {
    "collapsed": false,
    "deletable": true,
    "editable": true
   }
  },
  {
   "cell_type": "markdown",
   "source": [
    "If the `DataFrame’s columns are different dtypes`, the dtype of the values array will be chosen to accommodate all of the columns:"
   ],
   "metadata": {}
  },
  {
   "cell_type": "code",
   "execution_count": 168,
   "source": [
    "frame2"
   ],
   "outputs": [
    {
     "output_type": "execute_result",
     "data": {
      "text/plain": [
       "       year   state  pop  debt\n",
       "one    2000    Ohio  1.5   NaN\n",
       "two    2001    Ohio  1.7  -1.2\n",
       "three  2002    Ohio  3.6   NaN\n",
       "four   2001  Nevada  2.4  -1.5\n",
       "five   2002  Nevada  2.9  -1.7\n",
       "six    2003  Nevada  3.2   NaN"
      ],
      "text/html": [
       "<div>\n",
       "<style scoped>\n",
       "    .dataframe tbody tr th:only-of-type {\n",
       "        vertical-align: middle;\n",
       "    }\n",
       "\n",
       "    .dataframe tbody tr th {\n",
       "        vertical-align: top;\n",
       "    }\n",
       "\n",
       "    .dataframe thead th {\n",
       "        text-align: right;\n",
       "    }\n",
       "</style>\n",
       "<table border=\"1\" class=\"dataframe\">\n",
       "  <thead>\n",
       "    <tr style=\"text-align: right;\">\n",
       "      <th></th>\n",
       "      <th>year</th>\n",
       "      <th>state</th>\n",
       "      <th>pop</th>\n",
       "      <th>debt</th>\n",
       "    </tr>\n",
       "  </thead>\n",
       "  <tbody>\n",
       "    <tr>\n",
       "      <th>one</th>\n",
       "      <td>2000</td>\n",
       "      <td>Ohio</td>\n",
       "      <td>1.5</td>\n",
       "      <td>NaN</td>\n",
       "    </tr>\n",
       "    <tr>\n",
       "      <th>two</th>\n",
       "      <td>2001</td>\n",
       "      <td>Ohio</td>\n",
       "      <td>1.7</td>\n",
       "      <td>-1.2</td>\n",
       "    </tr>\n",
       "    <tr>\n",
       "      <th>three</th>\n",
       "      <td>2002</td>\n",
       "      <td>Ohio</td>\n",
       "      <td>3.6</td>\n",
       "      <td>NaN</td>\n",
       "    </tr>\n",
       "    <tr>\n",
       "      <th>four</th>\n",
       "      <td>2001</td>\n",
       "      <td>Nevada</td>\n",
       "      <td>2.4</td>\n",
       "      <td>-1.5</td>\n",
       "    </tr>\n",
       "    <tr>\n",
       "      <th>five</th>\n",
       "      <td>2002</td>\n",
       "      <td>Nevada</td>\n",
       "      <td>2.9</td>\n",
       "      <td>-1.7</td>\n",
       "    </tr>\n",
       "    <tr>\n",
       "      <th>six</th>\n",
       "      <td>2003</td>\n",
       "      <td>Nevada</td>\n",
       "      <td>3.2</td>\n",
       "      <td>NaN</td>\n",
       "    </tr>\n",
       "  </tbody>\n",
       "</table>\n",
       "</div>"
      ]
     },
     "metadata": {},
     "execution_count": 168
    }
   ],
   "metadata": {}
  },
  {
   "cell_type": "code",
   "execution_count": 167,
   "source": [
    "frame2.values"
   ],
   "outputs": [
    {
     "output_type": "execute_result",
     "data": {
      "text/plain": [
       "array([[2000, 'Ohio', 1.5, nan],\n",
       "       [2001, 'Ohio', 1.7, -1.2],\n",
       "       [2002, 'Ohio', 3.6, nan],\n",
       "       [2001, 'Nevada', 2.4, -1.5],\n",
       "       [2002, 'Nevada', 2.9, -1.7],\n",
       "       [2003, 'Nevada', 3.2, nan]], dtype=object)"
      ]
     },
     "metadata": {},
     "execution_count": 167
    }
   ],
   "metadata": {
    "collapsed": false,
    "deletable": true,
    "editable": true
   }
  },
  {
   "cell_type": "markdown",
   "source": [
    "### 5.1.3. Index Objects"
   ],
   "metadata": {
    "deletable": true,
    "editable": true
   }
  },
  {
   "cell_type": "code",
   "execution_count": 121,
   "source": [
    "obj = pd.Series(range(3), index=['a', 'b', 'c'])\r\n",
    "index = obj.index\r\n",
    "index\r\n",
    "index[1:]"
   ],
   "outputs": [
    {
     "output_type": "execute_result",
     "data": {
      "text/plain": [
       "Index(['b', 'c'], dtype='object')"
      ]
     },
     "metadata": {},
     "execution_count": 121
    }
   ],
   "metadata": {
    "collapsed": false,
    "deletable": true,
    "editable": true
   }
  },
  {
   "cell_type": "markdown",
   "source": [
    "index[1] = 'd'  # TypeError"
   ],
   "metadata": {
    "deletable": true,
    "editable": true
   }
  },
  {
   "cell_type": "code",
   "execution_count": 122,
   "source": [
    "labels = pd.Index(np.arange(3))\r\n",
    "labels\r\n",
    "obj2 = pd.Series([1.5, -2.5, 0], index=labels)\r\n",
    "obj2\r\n",
    "obj2.index is labels"
   ],
   "outputs": [
    {
     "output_type": "execute_result",
     "data": {
      "text/plain": [
       "True"
      ]
     },
     "metadata": {},
     "execution_count": 122
    }
   ],
   "metadata": {
    "collapsed": false,
    "deletable": true,
    "editable": true
   }
  },
  {
   "cell_type": "code",
   "execution_count": 123,
   "source": [
    "frame3\n",
    "frame3.columns\n",
    "'Ohio' in frame3.columns\n",
    "2003 in frame3.index"
   ],
   "outputs": [
    {
     "output_type": "execute_result",
     "data": {
      "text/plain": [
       "False"
      ]
     },
     "metadata": {},
     "execution_count": 123
    }
   ],
   "metadata": {
    "collapsed": false,
    "deletable": true,
    "editable": true
   }
  },
  {
   "cell_type": "code",
   "execution_count": 124,
   "source": [
    "dup_labels = pd.Index(['foo', 'foo', 'bar', 'bar'])\n",
    "dup_labels"
   ],
   "outputs": [
    {
     "output_type": "execute_result",
     "data": {
      "text/plain": [
       "Index(['foo', 'foo', 'bar', 'bar'], dtype='object')"
      ]
     },
     "metadata": {},
     "execution_count": 124
    }
   ],
   "metadata": {
    "collapsed": false,
    "deletable": true,
    "editable": true
   }
  },
  {
   "cell_type": "markdown",
   "source": [
    "## 5.2. Essential Functionality"
   ],
   "metadata": {
    "deletable": true,
    "editable": true
   }
  },
  {
   "cell_type": "markdown",
   "source": [
    "### 5.2.1. Reindexing"
   ],
   "metadata": {
    "deletable": true,
    "editable": true
   }
  },
  {
   "cell_type": "code",
   "execution_count": 125,
   "source": [
    "obj = pd.Series([4.5, 7.2, -5.3, 3.6], index=['d', 'b', 'a', 'c'])\r\n",
    "obj"
   ],
   "outputs": [
    {
     "output_type": "execute_result",
     "data": {
      "text/plain": [
       "d    4.5\n",
       "b    7.2\n",
       "a   -5.3\n",
       "c    3.6\n",
       "dtype: float64"
      ]
     },
     "metadata": {},
     "execution_count": 125
    }
   ],
   "metadata": {
    "collapsed": false,
    "deletable": true,
    "editable": true
   }
  },
  {
   "cell_type": "code",
   "execution_count": 126,
   "source": [
    "obj2 = obj.reindex(['a', 'b', 'c', 'd', 'e'])\r\n",
    "obj2"
   ],
   "outputs": [
    {
     "output_type": "execute_result",
     "data": {
      "text/plain": [
       "a   -5.3\n",
       "b    7.2\n",
       "c    3.6\n",
       "d    4.5\n",
       "e    NaN\n",
       "dtype: float64"
      ]
     },
     "metadata": {},
     "execution_count": 126
    }
   ],
   "metadata": {
    "collapsed": false,
    "deletable": true,
    "editable": true
   }
  },
  {
   "cell_type": "code",
   "execution_count": 127,
   "source": [
    "obj3 = pd.Series(['blue', 'purple', 'yellow'], index=[0, 2, 4])\n",
    "obj3\n",
    "obj3.reindex(range(6), method='ffill')"
   ],
   "outputs": [
    {
     "output_type": "execute_result",
     "data": {
      "text/plain": [
       "0      blue\n",
       "1      blue\n",
       "2    purple\n",
       "3    purple\n",
       "4    yellow\n",
       "5    yellow\n",
       "dtype: object"
      ]
     },
     "metadata": {},
     "execution_count": 127
    }
   ],
   "metadata": {
    "collapsed": false,
    "deletable": true,
    "editable": true
   }
  },
  {
   "cell_type": "code",
   "execution_count": 128,
   "source": [
    "frame = pd.DataFrame(np.arange(9).reshape((3, 3)),\n",
    "                     index=['a', 'c', 'd'],\n",
    "                     columns=['Ohio', 'Texas', 'California'])\n",
    "frame\n",
    "frame2 = frame.reindex(['a', 'b', 'c', 'd'])\n",
    "frame2"
   ],
   "outputs": [
    {
     "output_type": "execute_result",
     "data": {
      "text/plain": [
       "   Ohio  Texas  California\n",
       "a   0.0    1.0         2.0\n",
       "b   NaN    NaN         NaN\n",
       "c   3.0    4.0         5.0\n",
       "d   6.0    7.0         8.0"
      ],
      "text/html": [
       "<div>\n",
       "<style scoped>\n",
       "    .dataframe tbody tr th:only-of-type {\n",
       "        vertical-align: middle;\n",
       "    }\n",
       "\n",
       "    .dataframe tbody tr th {\n",
       "        vertical-align: top;\n",
       "    }\n",
       "\n",
       "    .dataframe thead th {\n",
       "        text-align: right;\n",
       "    }\n",
       "</style>\n",
       "<table border=\"1\" class=\"dataframe\">\n",
       "  <thead>\n",
       "    <tr style=\"text-align: right;\">\n",
       "      <th></th>\n",
       "      <th>Ohio</th>\n",
       "      <th>Texas</th>\n",
       "      <th>California</th>\n",
       "    </tr>\n",
       "  </thead>\n",
       "  <tbody>\n",
       "    <tr>\n",
       "      <th>a</th>\n",
       "      <td>0.0</td>\n",
       "      <td>1.0</td>\n",
       "      <td>2.0</td>\n",
       "    </tr>\n",
       "    <tr>\n",
       "      <th>b</th>\n",
       "      <td>NaN</td>\n",
       "      <td>NaN</td>\n",
       "      <td>NaN</td>\n",
       "    </tr>\n",
       "    <tr>\n",
       "      <th>c</th>\n",
       "      <td>3.0</td>\n",
       "      <td>4.0</td>\n",
       "      <td>5.0</td>\n",
       "    </tr>\n",
       "    <tr>\n",
       "      <th>d</th>\n",
       "      <td>6.0</td>\n",
       "      <td>7.0</td>\n",
       "      <td>8.0</td>\n",
       "    </tr>\n",
       "  </tbody>\n",
       "</table>\n",
       "</div>"
      ]
     },
     "metadata": {},
     "execution_count": 128
    }
   ],
   "metadata": {
    "collapsed": false,
    "deletable": true,
    "editable": true
   }
  },
  {
   "cell_type": "code",
   "execution_count": 129,
   "source": [
    "states = ['Texas', 'Utah', 'California']\n",
    "frame.reindex(columns=states)"
   ],
   "outputs": [
    {
     "output_type": "execute_result",
     "data": {
      "text/plain": [
       "   Texas  Utah  California\n",
       "a      1   NaN           2\n",
       "c      4   NaN           5\n",
       "d      7   NaN           8"
      ],
      "text/html": [
       "<div>\n",
       "<style scoped>\n",
       "    .dataframe tbody tr th:only-of-type {\n",
       "        vertical-align: middle;\n",
       "    }\n",
       "\n",
       "    .dataframe tbody tr th {\n",
       "        vertical-align: top;\n",
       "    }\n",
       "\n",
       "    .dataframe thead th {\n",
       "        text-align: right;\n",
       "    }\n",
       "</style>\n",
       "<table border=\"1\" class=\"dataframe\">\n",
       "  <thead>\n",
       "    <tr style=\"text-align: right;\">\n",
       "      <th></th>\n",
       "      <th>Texas</th>\n",
       "      <th>Utah</th>\n",
       "      <th>California</th>\n",
       "    </tr>\n",
       "  </thead>\n",
       "  <tbody>\n",
       "    <tr>\n",
       "      <th>a</th>\n",
       "      <td>1</td>\n",
       "      <td>NaN</td>\n",
       "      <td>2</td>\n",
       "    </tr>\n",
       "    <tr>\n",
       "      <th>c</th>\n",
       "      <td>4</td>\n",
       "      <td>NaN</td>\n",
       "      <td>5</td>\n",
       "    </tr>\n",
       "    <tr>\n",
       "      <th>d</th>\n",
       "      <td>7</td>\n",
       "      <td>NaN</td>\n",
       "      <td>8</td>\n",
       "    </tr>\n",
       "  </tbody>\n",
       "</table>\n",
       "</div>"
      ]
     },
     "metadata": {},
     "execution_count": 129
    }
   ],
   "metadata": {
    "collapsed": false,
    "deletable": true,
    "editable": true
   }
  },
  {
   "cell_type": "code",
   "execution_count": 130,
   "source": [
    "frame.loc[['a', 'b', 'c', 'd'], states]"
   ],
   "outputs": [
    {
     "output_type": "error",
     "ename": "KeyError",
     "evalue": "\"['b'] not in index\"",
     "traceback": [
      "\u001b[1;31m---------------------------------------------------------------------------\u001b[0m",
      "\u001b[1;31mKeyError\u001b[0m                                  Traceback (most recent call last)",
      "\u001b[1;32m<ipython-input-130-074c26e96084>\u001b[0m in \u001b[0;36m<module>\u001b[1;34m\u001b[0m\n\u001b[1;32m----> 1\u001b[1;33m \u001b[0mframe\u001b[0m\u001b[1;33m.\u001b[0m\u001b[0mloc\u001b[0m\u001b[1;33m[\u001b[0m\u001b[1;33m[\u001b[0m\u001b[1;34m'a'\u001b[0m\u001b[1;33m,\u001b[0m \u001b[1;34m'b'\u001b[0m\u001b[1;33m,\u001b[0m \u001b[1;34m'c'\u001b[0m\u001b[1;33m,\u001b[0m \u001b[1;34m'd'\u001b[0m\u001b[1;33m]\u001b[0m\u001b[1;33m,\u001b[0m \u001b[0mstates\u001b[0m\u001b[1;33m]\u001b[0m\u001b[1;33m\u001b[0m\u001b[1;33m\u001b[0m\u001b[0m\n\u001b[0m",
      "\u001b[1;32m~\\Anaconda3\\lib\\site-packages\\pandas\\core\\indexing.py\u001b[0m in \u001b[0;36m__getitem__\u001b[1;34m(self, key)\u001b[0m\n\u001b[0;32m    923\u001b[0m                 \u001b[1;32mwith\u001b[0m \u001b[0msuppress\u001b[0m\u001b[1;33m(\u001b[0m\u001b[0mKeyError\u001b[0m\u001b[1;33m,\u001b[0m \u001b[0mIndexError\u001b[0m\u001b[1;33m)\u001b[0m\u001b[1;33m:\u001b[0m\u001b[1;33m\u001b[0m\u001b[1;33m\u001b[0m\u001b[0m\n\u001b[0;32m    924\u001b[0m                     \u001b[1;32mreturn\u001b[0m \u001b[0mself\u001b[0m\u001b[1;33m.\u001b[0m\u001b[0mobj\u001b[0m\u001b[1;33m.\u001b[0m\u001b[0m_get_value\u001b[0m\u001b[1;33m(\u001b[0m\u001b[1;33m*\u001b[0m\u001b[0mkey\u001b[0m\u001b[1;33m,\u001b[0m \u001b[0mtakeable\u001b[0m\u001b[1;33m=\u001b[0m\u001b[0mself\u001b[0m\u001b[1;33m.\u001b[0m\u001b[0m_takeable\u001b[0m\u001b[1;33m)\u001b[0m\u001b[1;33m\u001b[0m\u001b[1;33m\u001b[0m\u001b[0m\n\u001b[1;32m--> 925\u001b[1;33m             \u001b[1;32mreturn\u001b[0m \u001b[0mself\u001b[0m\u001b[1;33m.\u001b[0m\u001b[0m_getitem_tuple\u001b[0m\u001b[1;33m(\u001b[0m\u001b[0mkey\u001b[0m\u001b[1;33m)\u001b[0m\u001b[1;33m\u001b[0m\u001b[1;33m\u001b[0m\u001b[0m\n\u001b[0m\u001b[0;32m    926\u001b[0m         \u001b[1;32melse\u001b[0m\u001b[1;33m:\u001b[0m\u001b[1;33m\u001b[0m\u001b[1;33m\u001b[0m\u001b[0m\n\u001b[0;32m    927\u001b[0m             \u001b[1;31m# we by definition only have the 0th axis\u001b[0m\u001b[1;33m\u001b[0m\u001b[1;33m\u001b[0m\u001b[1;33m\u001b[0m\u001b[0m\n",
      "\u001b[1;32m~\\Anaconda3\\lib\\site-packages\\pandas\\core\\indexing.py\u001b[0m in \u001b[0;36m_getitem_tuple\u001b[1;34m(self, tup)\u001b[0m\n\u001b[0;32m   1105\u001b[0m         \u001b[1;31m# ugly hack for GH #836\u001b[0m\u001b[1;33m\u001b[0m\u001b[1;33m\u001b[0m\u001b[1;33m\u001b[0m\u001b[0m\n\u001b[0;32m   1106\u001b[0m         \u001b[1;32mif\u001b[0m \u001b[0mself\u001b[0m\u001b[1;33m.\u001b[0m\u001b[0m_multi_take_opportunity\u001b[0m\u001b[1;33m(\u001b[0m\u001b[0mtup\u001b[0m\u001b[1;33m)\u001b[0m\u001b[1;33m:\u001b[0m\u001b[1;33m\u001b[0m\u001b[1;33m\u001b[0m\u001b[0m\n\u001b[1;32m-> 1107\u001b[1;33m             \u001b[1;32mreturn\u001b[0m \u001b[0mself\u001b[0m\u001b[1;33m.\u001b[0m\u001b[0m_multi_take\u001b[0m\u001b[1;33m(\u001b[0m\u001b[0mtup\u001b[0m\u001b[1;33m)\u001b[0m\u001b[1;33m\u001b[0m\u001b[1;33m\u001b[0m\u001b[0m\n\u001b[0m\u001b[0;32m   1108\u001b[0m \u001b[1;33m\u001b[0m\u001b[0m\n\u001b[0;32m   1109\u001b[0m         \u001b[1;32mreturn\u001b[0m \u001b[0mself\u001b[0m\u001b[1;33m.\u001b[0m\u001b[0m_getitem_tuple_same_dim\u001b[0m\u001b[1;33m(\u001b[0m\u001b[0mtup\u001b[0m\u001b[1;33m)\u001b[0m\u001b[1;33m\u001b[0m\u001b[1;33m\u001b[0m\u001b[0m\n",
      "\u001b[1;32m~\\Anaconda3\\lib\\site-packages\\pandas\\core\\indexing.py\u001b[0m in \u001b[0;36m_multi_take\u001b[1;34m(self, tup)\u001b[0m\n\u001b[0;32m   1057\u001b[0m         \"\"\"\n\u001b[0;32m   1058\u001b[0m         \u001b[1;31m# GH 836\u001b[0m\u001b[1;33m\u001b[0m\u001b[1;33m\u001b[0m\u001b[1;33m\u001b[0m\u001b[0m\n\u001b[1;32m-> 1059\u001b[1;33m         d = {\n\u001b[0m\u001b[0;32m   1060\u001b[0m             \u001b[0maxis\u001b[0m\u001b[1;33m:\u001b[0m \u001b[0mself\u001b[0m\u001b[1;33m.\u001b[0m\u001b[0m_get_listlike_indexer\u001b[0m\u001b[1;33m(\u001b[0m\u001b[0mkey\u001b[0m\u001b[1;33m,\u001b[0m \u001b[0maxis\u001b[0m\u001b[1;33m)\u001b[0m\u001b[1;33m\u001b[0m\u001b[1;33m\u001b[0m\u001b[0m\n\u001b[0;32m   1061\u001b[0m             \u001b[1;32mfor\u001b[0m \u001b[1;33m(\u001b[0m\u001b[0mkey\u001b[0m\u001b[1;33m,\u001b[0m \u001b[0maxis\u001b[0m\u001b[1;33m)\u001b[0m \u001b[1;32min\u001b[0m \u001b[0mzip\u001b[0m\u001b[1;33m(\u001b[0m\u001b[0mtup\u001b[0m\u001b[1;33m,\u001b[0m \u001b[0mself\u001b[0m\u001b[1;33m.\u001b[0m\u001b[0mobj\u001b[0m\u001b[1;33m.\u001b[0m\u001b[0m_AXIS_ORDERS\u001b[0m\u001b[1;33m)\u001b[0m\u001b[1;33m\u001b[0m\u001b[1;33m\u001b[0m\u001b[0m\n",
      "\u001b[1;32m~\\Anaconda3\\lib\\site-packages\\pandas\\core\\indexing.py\u001b[0m in \u001b[0;36m<dictcomp>\u001b[1;34m(.0)\u001b[0m\n\u001b[0;32m   1058\u001b[0m         \u001b[1;31m# GH 836\u001b[0m\u001b[1;33m\u001b[0m\u001b[1;33m\u001b[0m\u001b[1;33m\u001b[0m\u001b[0m\n\u001b[0;32m   1059\u001b[0m         d = {\n\u001b[1;32m-> 1060\u001b[1;33m             \u001b[0maxis\u001b[0m\u001b[1;33m:\u001b[0m \u001b[0mself\u001b[0m\u001b[1;33m.\u001b[0m\u001b[0m_get_listlike_indexer\u001b[0m\u001b[1;33m(\u001b[0m\u001b[0mkey\u001b[0m\u001b[1;33m,\u001b[0m \u001b[0maxis\u001b[0m\u001b[1;33m)\u001b[0m\u001b[1;33m\u001b[0m\u001b[1;33m\u001b[0m\u001b[0m\n\u001b[0m\u001b[0;32m   1061\u001b[0m             \u001b[1;32mfor\u001b[0m \u001b[1;33m(\u001b[0m\u001b[0mkey\u001b[0m\u001b[1;33m,\u001b[0m \u001b[0maxis\u001b[0m\u001b[1;33m)\u001b[0m \u001b[1;32min\u001b[0m \u001b[0mzip\u001b[0m\u001b[1;33m(\u001b[0m\u001b[0mtup\u001b[0m\u001b[1;33m,\u001b[0m \u001b[0mself\u001b[0m\u001b[1;33m.\u001b[0m\u001b[0mobj\u001b[0m\u001b[1;33m.\u001b[0m\u001b[0m_AXIS_ORDERS\u001b[0m\u001b[1;33m)\u001b[0m\u001b[1;33m\u001b[0m\u001b[1;33m\u001b[0m\u001b[0m\n\u001b[0;32m   1062\u001b[0m         }\n",
      "\u001b[1;32m~\\Anaconda3\\lib\\site-packages\\pandas\\core\\indexing.py\u001b[0m in \u001b[0;36m_get_listlike_indexer\u001b[1;34m(self, key, axis)\u001b[0m\n\u001b[0;32m   1312\u001b[0m             \u001b[0mkeyarr\u001b[0m\u001b[1;33m,\u001b[0m \u001b[0mindexer\u001b[0m\u001b[1;33m,\u001b[0m \u001b[0mnew_indexer\u001b[0m \u001b[1;33m=\u001b[0m \u001b[0max\u001b[0m\u001b[1;33m.\u001b[0m\u001b[0m_reindex_non_unique\u001b[0m\u001b[1;33m(\u001b[0m\u001b[0mkeyarr\u001b[0m\u001b[1;33m)\u001b[0m\u001b[1;33m\u001b[0m\u001b[1;33m\u001b[0m\u001b[0m\n\u001b[0;32m   1313\u001b[0m \u001b[1;33m\u001b[0m\u001b[0m\n\u001b[1;32m-> 1314\u001b[1;33m         \u001b[0mself\u001b[0m\u001b[1;33m.\u001b[0m\u001b[0m_validate_read_indexer\u001b[0m\u001b[1;33m(\u001b[0m\u001b[0mkeyarr\u001b[0m\u001b[1;33m,\u001b[0m \u001b[0mindexer\u001b[0m\u001b[1;33m,\u001b[0m \u001b[0maxis\u001b[0m\u001b[1;33m)\u001b[0m\u001b[1;33m\u001b[0m\u001b[1;33m\u001b[0m\u001b[0m\n\u001b[0m\u001b[0;32m   1315\u001b[0m \u001b[1;33m\u001b[0m\u001b[0m\n\u001b[0;32m   1316\u001b[0m         if needs_i8_conversion(ax.dtype) or isinstance(\n",
      "\u001b[1;32m~\\Anaconda3\\lib\\site-packages\\pandas\\core\\indexing.py\u001b[0m in \u001b[0;36m_validate_read_indexer\u001b[1;34m(self, key, indexer, axis)\u001b[0m\n\u001b[0;32m   1375\u001b[0m \u001b[1;33m\u001b[0m\u001b[0m\n\u001b[0;32m   1376\u001b[0m             \u001b[0mnot_found\u001b[0m \u001b[1;33m=\u001b[0m \u001b[0mlist\u001b[0m\u001b[1;33m(\u001b[0m\u001b[0mensure_index\u001b[0m\u001b[1;33m(\u001b[0m\u001b[0mkey\u001b[0m\u001b[1;33m)\u001b[0m\u001b[1;33m[\u001b[0m\u001b[0mmissing_mask\u001b[0m\u001b[1;33m.\u001b[0m\u001b[0mnonzero\u001b[0m\u001b[1;33m(\u001b[0m\u001b[1;33m)\u001b[0m\u001b[1;33m[\u001b[0m\u001b[1;36m0\u001b[0m\u001b[1;33m]\u001b[0m\u001b[1;33m]\u001b[0m\u001b[1;33m.\u001b[0m\u001b[0munique\u001b[0m\u001b[1;33m(\u001b[0m\u001b[1;33m)\u001b[0m\u001b[1;33m)\u001b[0m\u001b[1;33m\u001b[0m\u001b[1;33m\u001b[0m\u001b[0m\n\u001b[1;32m-> 1377\u001b[1;33m             \u001b[1;32mraise\u001b[0m \u001b[0mKeyError\u001b[0m\u001b[1;33m(\u001b[0m\u001b[1;34mf\"{not_found} not in index\"\u001b[0m\u001b[1;33m)\u001b[0m\u001b[1;33m\u001b[0m\u001b[1;33m\u001b[0m\u001b[0m\n\u001b[0m\u001b[0;32m   1378\u001b[0m \u001b[1;33m\u001b[0m\u001b[0m\n\u001b[0;32m   1379\u001b[0m \u001b[1;33m\u001b[0m\u001b[0m\n",
      "\u001b[1;31mKeyError\u001b[0m: \"['b'] not in index\""
     ]
    }
   ],
   "metadata": {
    "collapsed": false,
    "deletable": true,
    "editable": true
   }
  },
  {
   "cell_type": "markdown",
   "source": [
    "### 5.2.2. Dropping Entries from an Axis"
   ],
   "metadata": {
    "deletable": true,
    "editable": true
   }
  },
  {
   "cell_type": "code",
   "execution_count": null,
   "source": [
    "obj = pd.Series(np.arange(5.), index=['a', 'b', 'c', 'd', 'e'])\r\n",
    "obj\r\n",
    "new_obj = obj.drop('c')\r\n",
    "new_obj\r\n",
    "obj.drop(['d', 'c'])"
   ],
   "outputs": [],
   "metadata": {
    "collapsed": false,
    "deletable": true,
    "editable": true
   }
  },
  {
   "cell_type": "code",
   "execution_count": null,
   "source": [
    "data = pd.DataFrame(np.arange(16).reshape((4, 4)),\n",
    "                    index=['Ohio', 'Colorado', 'Utah', 'New York'],\n",
    "                    columns=['one', 'two', 'three', 'four'])\n",
    "data"
   ],
   "outputs": [],
   "metadata": {
    "collapsed": false,
    "deletable": true,
    "editable": true
   }
  },
  {
   "cell_type": "code",
   "execution_count": null,
   "source": [
    "data.drop(['Colorado', 'Ohio'])"
   ],
   "outputs": [],
   "metadata": {
    "collapsed": false,
    "deletable": true,
    "editable": true
   }
  },
  {
   "cell_type": "code",
   "execution_count": null,
   "source": [
    "data.drop('two', axis=1)\n",
    "data.drop(['two', 'four'], axis='columns')"
   ],
   "outputs": [],
   "metadata": {
    "collapsed": false,
    "deletable": true,
    "editable": true
   }
  },
  {
   "cell_type": "code",
   "execution_count": null,
   "source": [
    "obj.drop('c', inplace=True)\n",
    "obj"
   ],
   "outputs": [],
   "metadata": {
    "collapsed": false,
    "deletable": true,
    "editable": true
   }
  },
  {
   "cell_type": "markdown",
   "source": [
    "### 5.2.3. Indexing, Selection, and Filtering"
   ],
   "metadata": {
    "deletable": true,
    "editable": true
   }
  },
  {
   "cell_type": "code",
   "execution_count": null,
   "source": [
    "obj = pd.Series(np.arange(4.), index=['a', 'b', 'c', 'd'])\r\n",
    "obj\r\n",
    "obj['b']\r\n",
    "obj[1]\r\n",
    "obj[2:4]\r\n",
    "obj[['b', 'a', 'd']]\r\n",
    "obj[[1, 3]]\r\n",
    "obj[obj < 2]"
   ],
   "outputs": [],
   "metadata": {
    "collapsed": false,
    "deletable": true,
    "editable": true
   }
  },
  {
   "cell_type": "code",
   "execution_count": null,
   "source": [
    "obj['b':'c']"
   ],
   "outputs": [],
   "metadata": {
    "collapsed": false,
    "deletable": true,
    "editable": true
   }
  },
  {
   "cell_type": "code",
   "execution_count": null,
   "source": [
    "obj['b':'c'] = 5\r\n",
    "obj"
   ],
   "outputs": [],
   "metadata": {
    "collapsed": false,
    "deletable": true,
    "editable": true
   }
  },
  {
   "cell_type": "code",
   "execution_count": null,
   "source": [
    "data = pd.DataFrame(np.arange(16).reshape((4, 4)),\r\n",
    "                    index=['Ohio', 'Colorado', 'Utah', 'New York'],\r\n",
    "                    columns=['one', 'two', 'three', 'four'])\r\n",
    "data\r\n",
    "data['two']\r\n",
    "data[['three', 'one']]"
   ],
   "outputs": [],
   "metadata": {
    "collapsed": false,
    "deletable": true,
    "editable": true
   }
  },
  {
   "cell_type": "code",
   "execution_count": null,
   "source": [
    "data[:2]\n",
    "data[data['three'] > 5]"
   ],
   "outputs": [],
   "metadata": {
    "collapsed": false,
    "deletable": true,
    "editable": true
   }
  },
  {
   "cell_type": "code",
   "execution_count": null,
   "source": [
    "data < 5\n",
    "data[data < 5] = 0\n",
    "data"
   ],
   "outputs": [],
   "metadata": {
    "collapsed": false,
    "deletable": true,
    "editable": true
   }
  },
  {
   "cell_type": "markdown",
   "source": [
    "#### Selection with loc and iloc"
   ],
   "metadata": {
    "deletable": true,
    "editable": true
   }
  },
  {
   "cell_type": "code",
   "execution_count": null,
   "source": [
    "data.loc['Colorado', ['two', 'three']]"
   ],
   "outputs": [],
   "metadata": {
    "collapsed": false,
    "deletable": true,
    "editable": true
   }
  },
  {
   "cell_type": "code",
   "execution_count": null,
   "source": [
    "data.iloc[2, [3, 0, 1]]\n",
    "data.iloc[2]\n",
    "data.iloc[[1, 2], [3, 0, 1]]"
   ],
   "outputs": [],
   "metadata": {
    "collapsed": false,
    "deletable": true,
    "editable": true
   }
  },
  {
   "cell_type": "code",
   "execution_count": null,
   "source": [
    "data.loc[:'Utah', 'two']\n",
    "data.iloc[:, :3][data.three > 5]"
   ],
   "outputs": [],
   "metadata": {
    "collapsed": false,
    "deletable": true,
    "editable": true
   }
  },
  {
   "cell_type": "markdown",
   "source": [
    "### 5.2.4. Integer Indexes"
   ],
   "metadata": {
    "deletable": true,
    "editable": true
   }
  },
  {
   "cell_type": "markdown",
   "source": [
    "ser = pd.Series(np.arange(3.))\n",
    "ser\n",
    "ser[-1]"
   ],
   "metadata": {
    "deletable": true,
    "editable": true
   }
  },
  {
   "cell_type": "code",
   "execution_count": null,
   "source": [
    "ser = pd.Series(np.arange(3.))"
   ],
   "outputs": [],
   "metadata": {
    "collapsed": false,
    "deletable": true,
    "editable": true
   }
  },
  {
   "cell_type": "code",
   "execution_count": null,
   "source": [
    "ser"
   ],
   "outputs": [],
   "metadata": {
    "collapsed": false,
    "deletable": true,
    "editable": true
   }
  },
  {
   "cell_type": "code",
   "execution_count": null,
   "source": [
    "ser2 = pd.Series(np.arange(3.), index=['a', 'b', 'c'])\r\n",
    "ser2[-1]"
   ],
   "outputs": [],
   "metadata": {
    "collapsed": false,
    "deletable": true,
    "editable": true
   }
  },
  {
   "cell_type": "code",
   "execution_count": null,
   "source": [
    "ser[:1]\r\n",
    "ser.loc[:1]\r\n",
    "ser.iloc[:1]"
   ],
   "outputs": [],
   "metadata": {
    "collapsed": false,
    "deletable": true,
    "editable": true
   }
  },
  {
   "cell_type": "markdown",
   "source": [
    "### 5.2.5. Arithmetic and Data Alignment"
   ],
   "metadata": {
    "deletable": true,
    "editable": true
   }
  },
  {
   "cell_type": "code",
   "execution_count": null,
   "source": [
    "s1 = pd.Series([7.3, -2.5, 3.4, 1.5], index=['a', 'c', 'd', 'e'])\r\n",
    "s2 = pd.Series([-2.1, 3.6, -1.5, 4, 3.1],\r\n",
    "               index=['a', 'c', 'e', 'f', 'g'])\r\n",
    "s1\r\n",
    "s2"
   ],
   "outputs": [],
   "metadata": {
    "collapsed": false,
    "deletable": true,
    "editable": true
   }
  },
  {
   "cell_type": "code",
   "execution_count": null,
   "source": [
    "s1 + s2"
   ],
   "outputs": [],
   "metadata": {
    "collapsed": false,
    "deletable": true,
    "editable": true
   }
  },
  {
   "cell_type": "code",
   "execution_count": null,
   "source": [
    "df1 = pd.DataFrame(np.arange(9.).reshape((3, 3)), columns=list('bcd'),\r\n",
    "                   index=['Ohio', 'Texas', 'Colorado'])\r\n",
    "df2 = pd.DataFrame(np.arange(12.).reshape((4, 3)), columns=list('bde'),\r\n",
    "                   index=['Utah', 'Ohio', 'Texas', 'Oregon'])\r\n",
    "df1\r\n",
    "df2"
   ],
   "outputs": [],
   "metadata": {
    "collapsed": false,
    "deletable": true,
    "editable": true
   }
  },
  {
   "cell_type": "code",
   "execution_count": null,
   "source": [
    "df1 + df2"
   ],
   "outputs": [],
   "metadata": {
    "collapsed": false,
    "deletable": true,
    "editable": true
   }
  },
  {
   "cell_type": "code",
   "execution_count": null,
   "source": [
    "df1 = pd.DataFrame({'A': [1, 2]})\n",
    "df2 = pd.DataFrame({'B': [3, 4]})\n",
    "df1\n",
    "df2\n",
    "df1 - df2"
   ],
   "outputs": [],
   "metadata": {
    "collapsed": false,
    "deletable": true,
    "editable": true
   }
  },
  {
   "cell_type": "markdown",
   "source": [
    "#### Arithmetic methods with fill values"
   ],
   "metadata": {
    "deletable": true,
    "editable": true
   }
  },
  {
   "cell_type": "code",
   "execution_count": null,
   "source": [
    "df1 = pd.DataFrame(np.arange(12.).reshape((3, 4)),\n",
    "                   columns=list('abcd'))\n",
    "df2 = pd.DataFrame(np.arange(20.).reshape((4, 5)),\n",
    "                   columns=list('abcde'))\n",
    "df2.loc[1, 'b'] = np.nan\n",
    "df1\n",
    "df2"
   ],
   "outputs": [],
   "metadata": {
    "collapsed": false,
    "deletable": true,
    "editable": true
   }
  },
  {
   "cell_type": "code",
   "execution_count": null,
   "source": [
    "df1 + df2"
   ],
   "outputs": [],
   "metadata": {
    "collapsed": false,
    "deletable": true,
    "editable": true
   }
  },
  {
   "cell_type": "code",
   "execution_count": null,
   "source": [
    "df1.add(df2, fill_value=0)"
   ],
   "outputs": [],
   "metadata": {
    "collapsed": false,
    "deletable": true,
    "editable": true
   }
  },
  {
   "cell_type": "code",
   "execution_count": null,
   "source": [
    "1 / df1\n",
    "df1.rdiv(1)"
   ],
   "outputs": [],
   "metadata": {
    "collapsed": false,
    "deletable": true,
    "editable": true
   }
  },
  {
   "cell_type": "code",
   "execution_count": null,
   "source": [
    "df1.reindex(columns=df2.columns, fill_value=0)"
   ],
   "outputs": [],
   "metadata": {
    "collapsed": false,
    "deletable": true,
    "editable": true
   }
  },
  {
   "cell_type": "markdown",
   "source": [
    "#### Operations between DataFrame and Series"
   ],
   "metadata": {
    "deletable": true,
    "editable": true
   }
  },
  {
   "cell_type": "code",
   "execution_count": null,
   "source": [
    "arr = np.arange(12.).reshape((3, 4))\n",
    "arr\n",
    "arr[0]\n",
    "arr - arr[0]"
   ],
   "outputs": [],
   "metadata": {
    "collapsed": false,
    "deletable": true,
    "editable": true
   }
  },
  {
   "cell_type": "code",
   "execution_count": null,
   "source": [
    "frame = pd.DataFrame(np.arange(12.).reshape((4, 3)),\n",
    "                     columns=list('bde'),\n",
    "                     index=['Utah', 'Ohio', 'Texas', 'Oregon'])\n",
    "series = frame.iloc[0]\n",
    "frame\n",
    "series"
   ],
   "outputs": [],
   "metadata": {
    "collapsed": false,
    "deletable": true,
    "editable": true
   }
  },
  {
   "cell_type": "code",
   "execution_count": null,
   "source": [
    "frame - series"
   ],
   "outputs": [],
   "metadata": {
    "collapsed": false,
    "deletable": true,
    "editable": true
   }
  },
  {
   "cell_type": "code",
   "execution_count": null,
   "source": [
    "series2 = pd.Series(range(3), index=['b', 'e', 'f'])\n",
    "frame + series2"
   ],
   "outputs": [],
   "metadata": {
    "collapsed": false,
    "deletable": true,
    "editable": true
   }
  },
  {
   "cell_type": "code",
   "execution_count": null,
   "source": [
    "series3 = frame['d']\n",
    "frame\n",
    "series3\n",
    "frame.sub(series3, axis='index')"
   ],
   "outputs": [],
   "metadata": {
    "collapsed": false,
    "deletable": true,
    "editable": true
   }
  },
  {
   "cell_type": "markdown",
   "source": [
    "### 5.2.6. Function Application and Mapping"
   ],
   "metadata": {
    "deletable": true,
    "editable": true
   }
  },
  {
   "cell_type": "code",
   "execution_count": null,
   "source": [
    "frame = pd.DataFrame(np.random.randn(4, 3), columns=list('bde'),\r\n",
    "                     index=['Utah', 'Ohio', 'Texas', 'Oregon'])\r\n",
    "frame\r\n",
    "np.abs(frame)"
   ],
   "outputs": [],
   "metadata": {
    "collapsed": false,
    "deletable": true,
    "editable": true
   }
  },
  {
   "cell_type": "code",
   "execution_count": null,
   "source": [
    "f = lambda x: x.max() - x.min()\r\n",
    "frame.apply(f)"
   ],
   "outputs": [],
   "metadata": {
    "collapsed": false,
    "deletable": true,
    "editable": true
   }
  },
  {
   "cell_type": "code",
   "execution_count": null,
   "source": [
    "frame.apply(f, axis='columns')"
   ],
   "outputs": [],
   "metadata": {
    "collapsed": false,
    "deletable": true,
    "editable": true
   }
  },
  {
   "cell_type": "code",
   "execution_count": null,
   "source": [
    "def f(x):\n",
    "    return pd.Series([x.min(), x.max()], index=['min', 'max'])\n",
    "frame.apply(f)"
   ],
   "outputs": [],
   "metadata": {
    "collapsed": false,
    "deletable": true,
    "editable": true
   }
  },
  {
   "cell_type": "code",
   "execution_count": null,
   "source": [
    "format = lambda x: '%.2f' % x\n",
    "frame.applymap(format)"
   ],
   "outputs": [],
   "metadata": {
    "collapsed": false,
    "deletable": true,
    "editable": true
   }
  },
  {
   "cell_type": "code",
   "execution_count": null,
   "source": [
    "frame['e'].map(format)"
   ],
   "outputs": [],
   "metadata": {
    "collapsed": false,
    "deletable": true,
    "editable": true
   }
  },
  {
   "cell_type": "markdown",
   "source": [
    "### 5.2.7. Sorting and Ranking"
   ],
   "metadata": {
    "deletable": true,
    "editable": true
   }
  },
  {
   "cell_type": "code",
   "execution_count": null,
   "source": [
    "obj = pd.Series(range(4), index=['d', 'a', 'b', 'c'])\r\n",
    "obj.sort_index()"
   ],
   "outputs": [],
   "metadata": {
    "collapsed": false,
    "deletable": true,
    "editable": true
   }
  },
  {
   "cell_type": "code",
   "execution_count": null,
   "source": [
    "frame = pd.DataFrame(np.arange(8).reshape((2, 4)),\r\n",
    "                     index=['three', 'one'],\r\n",
    "                     columns=['d', 'a', 'b', 'c'])\r\n",
    "frame.sort_index()\r\n",
    "frame.sort_index(axis=1)"
   ],
   "outputs": [],
   "metadata": {
    "collapsed": false,
    "deletable": true,
    "editable": true
   }
  },
  {
   "cell_type": "code",
   "execution_count": null,
   "source": [
    "frame.sort_index(axis=1, ascending=False)"
   ],
   "outputs": [],
   "metadata": {
    "collapsed": false,
    "deletable": true,
    "editable": true
   }
  },
  {
   "cell_type": "code",
   "execution_count": null,
   "source": [
    "obj = pd.Series([4, 7, -3, 2])\r\n",
    "obj.sort_values()"
   ],
   "outputs": [],
   "metadata": {
    "collapsed": false,
    "deletable": true,
    "editable": true
   }
  },
  {
   "cell_type": "code",
   "execution_count": null,
   "source": [
    "obj = pd.Series([4, np.nan, 7, np.nan, -3, 2])\r\n",
    "obj.sort_values()"
   ],
   "outputs": [],
   "metadata": {
    "collapsed": false,
    "deletable": true,
    "editable": true
   }
  },
  {
   "cell_type": "code",
   "execution_count": null,
   "source": [
    "frame = pd.DataFrame({'b': [4, 7, -3, 2], 'a': [0, 1, 0, 1]})\n",
    "frame\n",
    "frame.sort_values(by='b')"
   ],
   "outputs": [],
   "metadata": {
    "collapsed": false,
    "deletable": true,
    "editable": true
   }
  },
  {
   "cell_type": "code",
   "execution_count": null,
   "source": [
    "frame.sort_values(by=['a', 'b'])"
   ],
   "outputs": [],
   "metadata": {
    "collapsed": false,
    "deletable": true,
    "editable": true
   }
  },
  {
   "cell_type": "code",
   "execution_count": null,
   "source": [
    "obj = pd.Series([7, -5, 7, 4, 2, 0, 4])\n",
    "obj.rank()"
   ],
   "outputs": [],
   "metadata": {
    "collapsed": false,
    "deletable": true,
    "editable": true
   }
  },
  {
   "cell_type": "code",
   "execution_count": null,
   "source": [
    "obj.rank(method='first')"
   ],
   "outputs": [],
   "metadata": {
    "collapsed": false,
    "deletable": true,
    "editable": true
   }
  },
  {
   "cell_type": "code",
   "execution_count": null,
   "source": [
    "# Assign tie values the maximum rank in the group\n",
    "obj.rank(ascending=False, method='max')"
   ],
   "outputs": [],
   "metadata": {
    "collapsed": false,
    "deletable": true,
    "editable": true
   }
  },
  {
   "cell_type": "code",
   "execution_count": null,
   "source": [
    "frame = pd.DataFrame({'b': [4.3, 7, -3, 2], 'a': [0, 1, 0, 1],\n",
    "                      'c': [-2, 5, 8, -2.5]})\n",
    "frame\n",
    "frame.rank(axis='columns')"
   ],
   "outputs": [],
   "metadata": {
    "collapsed": false,
    "deletable": true,
    "editable": true
   }
  },
  {
   "cell_type": "markdown",
   "source": [
    "### 5.2.8. Axis Indexes with Duplicate Labels"
   ],
   "metadata": {
    "deletable": true,
    "editable": true
   }
  },
  {
   "cell_type": "code",
   "execution_count": null,
   "source": [
    "obj = pd.Series(range(5), index=['a', 'a', 'b', 'b', 'c'])\r\n",
    "obj"
   ],
   "outputs": [],
   "metadata": {
    "collapsed": false,
    "deletable": true,
    "editable": true
   }
  },
  {
   "cell_type": "code",
   "execution_count": null,
   "source": [
    "obj.index.is_unique"
   ],
   "outputs": [],
   "metadata": {
    "collapsed": false,
    "deletable": true,
    "editable": true
   }
  },
  {
   "cell_type": "code",
   "execution_count": null,
   "source": [
    "obj['a']\r\n",
    "obj['c']"
   ],
   "outputs": [],
   "metadata": {
    "collapsed": false,
    "deletable": true,
    "editable": true
   }
  },
  {
   "cell_type": "code",
   "execution_count": null,
   "source": [
    "df = pd.DataFrame(np.random.randn(4, 3), index=['a', 'a', 'b', 'b'])\r\n",
    "df\r\n",
    "df.loc['b']"
   ],
   "outputs": [],
   "metadata": {
    "collapsed": false,
    "deletable": true,
    "editable": true
   }
  },
  {
   "cell_type": "markdown",
   "source": [
    "## 5.3. Summarizing and Computing Descriptive Statistics"
   ],
   "metadata": {
    "deletable": true,
    "editable": true
   }
  },
  {
   "cell_type": "code",
   "execution_count": null,
   "source": [
    "df = pd.DataFrame([[1.4, np.nan], [7.1, -4.5],\r\n",
    "                   [np.nan, np.nan], [0.75, -1.3]],\r\n",
    "                  index=['a', 'b', 'c', 'd'],\r\n",
    "                  columns=['one', 'two'])\r\n",
    "df"
   ],
   "outputs": [],
   "metadata": {
    "collapsed": false,
    "deletable": true,
    "editable": true
   }
  },
  {
   "cell_type": "code",
   "execution_count": null,
   "source": [
    "df.sum()"
   ],
   "outputs": [],
   "metadata": {
    "collapsed": false,
    "deletable": true,
    "editable": true
   }
  },
  {
   "cell_type": "code",
   "execution_count": null,
   "source": [
    "df.sum(axis='columns')"
   ],
   "outputs": [],
   "metadata": {
    "collapsed": false,
    "deletable": true,
    "editable": true
   }
  },
  {
   "cell_type": "code",
   "execution_count": null,
   "source": [
    "df.mean(axis='columns', skipna=False)"
   ],
   "outputs": [],
   "metadata": {
    "collapsed": false,
    "deletable": true,
    "editable": true
   }
  },
  {
   "cell_type": "code",
   "execution_count": null,
   "source": [
    "df.idxmax()"
   ],
   "outputs": [],
   "metadata": {
    "collapsed": false,
    "deletable": true,
    "editable": true
   }
  },
  {
   "cell_type": "code",
   "execution_count": null,
   "source": [
    "df.cumsum()"
   ],
   "outputs": [],
   "metadata": {
    "collapsed": false,
    "deletable": true,
    "editable": true
   }
  },
  {
   "cell_type": "code",
   "execution_count": null,
   "source": [
    "df.describe()"
   ],
   "outputs": [],
   "metadata": {
    "collapsed": false,
    "deletable": true,
    "editable": true
   }
  },
  {
   "cell_type": "code",
   "execution_count": null,
   "source": [
    "obj = pd.Series(['a', 'a', 'b', 'c'] * 4)\r\n",
    "obj.describe()"
   ],
   "outputs": [],
   "metadata": {
    "collapsed": false,
    "deletable": true,
    "editable": true
   }
  },
  {
   "cell_type": "markdown",
   "source": [
    "### 5.3.1. Correlation and Covariance"
   ],
   "metadata": {
    "deletable": true,
    "editable": true
   }
  },
  {
   "cell_type": "markdown",
   "source": [
    "conda install pandas-datareader"
   ],
   "metadata": {
    "deletable": true,
    "editable": true
   }
  },
  {
   "cell_type": "code",
   "execution_count": null,
   "source": [
    "price = pd.read_pickle('examples/yahoo_price.pkl')\r\n",
    "volume = pd.read_pickle('examples/yahoo_volume.pkl')"
   ],
   "outputs": [],
   "metadata": {
    "collapsed": false,
    "deletable": true,
    "editable": true
   }
  },
  {
   "cell_type": "markdown",
   "source": [
    "import pandas_datareader.data as web\n",
    "all_data = {ticker: web.get_data_yahoo(ticker)\n",
    "            for ticker in ['AAPL', 'IBM', 'MSFT', 'GOOG']}\n",
    "\n",
    "price = pd.DataFrame({ticker: data['Adj Close']\n",
    "                     for ticker, data in all_data.items()})\n",
    "volume = pd.DataFrame({ticker: data['Volume']\n",
    "                      for ticker, data in all_data.items()})"
   ],
   "metadata": {
    "deletable": true,
    "editable": true
   }
  },
  {
   "cell_type": "code",
   "execution_count": null,
   "source": [
    "returns = price.pct_change()\n",
    "returns.tail()"
   ],
   "outputs": [],
   "metadata": {
    "collapsed": false,
    "deletable": true,
    "editable": true
   }
  },
  {
   "cell_type": "code",
   "execution_count": null,
   "source": [
    "returns['MSFT'].corr(returns['IBM'])\n",
    "returns['MSFT'].cov(returns['IBM'])"
   ],
   "outputs": [],
   "metadata": {
    "collapsed": false,
    "deletable": true,
    "editable": true
   }
  },
  {
   "cell_type": "code",
   "execution_count": null,
   "source": [
    "returns.MSFT.corr(returns.IBM)"
   ],
   "outputs": [],
   "metadata": {
    "collapsed": false,
    "deletable": true,
    "editable": true
   }
  },
  {
   "cell_type": "code",
   "execution_count": null,
   "source": [
    "returns.corr()\n",
    "returns.cov()"
   ],
   "outputs": [],
   "metadata": {
    "collapsed": false,
    "deletable": true,
    "editable": true
   }
  },
  {
   "cell_type": "code",
   "execution_count": null,
   "source": [
    "returns.corrwith(returns.IBM)"
   ],
   "outputs": [],
   "metadata": {
    "collapsed": false,
    "deletable": true,
    "editable": true
   }
  },
  {
   "cell_type": "code",
   "execution_count": null,
   "source": [
    "returns.corrwith(volume)"
   ],
   "outputs": [],
   "metadata": {
    "collapsed": false,
    "deletable": true,
    "editable": true
   }
  },
  {
   "cell_type": "markdown",
   "source": [
    "### 5.3.2. Unique Values, Value Counts, and Membership"
   ],
   "metadata": {
    "deletable": true,
    "editable": true
   }
  },
  {
   "cell_type": "code",
   "execution_count": null,
   "source": [
    "obj = pd.Series(['c', 'a', 'd', 'a', 'a', 'b', 'b', 'c', 'c'])"
   ],
   "outputs": [],
   "metadata": {
    "collapsed": false,
    "deletable": true,
    "editable": true
   }
  },
  {
   "cell_type": "code",
   "execution_count": null,
   "source": [
    "uniques = obj.unique()\r\n",
    "uniques"
   ],
   "outputs": [],
   "metadata": {
    "collapsed": false,
    "deletable": true,
    "editable": true
   }
  },
  {
   "cell_type": "code",
   "execution_count": null,
   "source": [
    "obj.value_counts()"
   ],
   "outputs": [],
   "metadata": {
    "collapsed": false,
    "deletable": true,
    "editable": true
   }
  },
  {
   "cell_type": "code",
   "execution_count": null,
   "source": [
    "pd.value_counts(obj.values, sort=False)"
   ],
   "outputs": [],
   "metadata": {
    "collapsed": false,
    "deletable": true,
    "editable": true
   }
  },
  {
   "cell_type": "code",
   "execution_count": null,
   "source": [
    "obj\n",
    "mask = obj.isin(['b', 'c'])\n",
    "mask\n",
    "obj[mask]"
   ],
   "outputs": [],
   "metadata": {
    "collapsed": false,
    "deletable": true,
    "editable": true
   }
  },
  {
   "cell_type": "code",
   "execution_count": null,
   "source": [
    "to_match = pd.Series(['c', 'a', 'b', 'b', 'c', 'a'])\n",
    "unique_vals = pd.Series(['c', 'b', 'a'])\n",
    "pd.Index(unique_vals).get_indexer(to_match)"
   ],
   "outputs": [],
   "metadata": {
    "collapsed": false,
    "deletable": true,
    "editable": true
   }
  },
  {
   "cell_type": "code",
   "execution_count": null,
   "source": [
    "data = pd.DataFrame({'Qu1': [1, 3, 4, 3, 4],\n",
    "                     'Qu2': [2, 3, 1, 2, 3],\n",
    "                     'Qu3': [1, 5, 2, 4, 4]})\n",
    "data"
   ],
   "outputs": [],
   "metadata": {
    "collapsed": false,
    "deletable": true,
    "editable": true
   }
  },
  {
   "cell_type": "code",
   "execution_count": null,
   "source": [
    "result = data.apply(pd.value_counts).fillna(0)\n",
    "result"
   ],
   "outputs": [],
   "metadata": {
    "collapsed": false,
    "deletable": true,
    "editable": true
   }
  },
  {
   "cell_type": "markdown",
   "source": [
    "## 5.4. Conclusion"
   ],
   "metadata": {
    "deletable": true,
    "editable": true
   }
  },
  {
   "cell_type": "code",
   "execution_count": null,
   "source": [
    "pd.options.display.max_rows = PREVIOUS_MAX_ROWS"
   ],
   "outputs": [],
   "metadata": {
    "collapsed": false,
    "deletable": true,
    "editable": true
   }
  }
 ],
 "metadata": {
  "kernelspec": {
   "name": "python3",
   "display_name": "Python 3.8.11 64-bit ('base': conda)"
  },
  "language_info": {
   "codemirror_mode": {
    "name": "ipython",
    "version": 3
   },
   "file_extension": ".py",
   "mimetype": "text/x-python",
   "name": "python",
   "nbconvert_exporter": "python",
   "pygments_lexer": "ipython3",
   "version": "3.8.11"
  },
  "interpreter": {
   "hash": "804972bcc2c7da0db12b8dee843537a098e4b8912643404119154635af53e7fd"
  }
 },
 "nbformat": 4,
 "nbformat_minor": 2
}